{
 "cells": [
  {
   "cell_type": "markdown",
   "metadata": {
    "id": "hguJP9hWAM20"
   },
   "source": [
    "# Practice\n",
    " you will practice using Pandas and how to manipulate data to turn it into useful information.\n",
    " - you can download needed data from here, [PracticeData](https://drive.google.com/file/d/1OHgvLPNZsjcyGZafx-U-fbtkLS8JiGkz/view?usp=sharing), [PracticeGrades](https://drive.google.com/file/d/1BycpsXykKRNWyKYubHkDapF2UNpz3Uun/view?usp=sharing)\n",
    " - you can download session notebooks from here , [Part1](https://drive.google.com/file/d/1HujHwkv0_qXrfyppEnD6XRYS8laYMPgI/view?usp=sharing) , [Part2](https://drive.google.com/file/d/10TZlMlfdjeDn0_ZS7dbOr4m38dnNTZYn/view?usp=sharing)"
   ]
  },
  {
   "cell_type": "markdown",
   "metadata": {
    "id": "MfW3khIaC5n_"
   },
   "source": [
    "### 1. Import libraries and data frames\n",
    "- here you need to import `pandas` and `numpy` libraries to use them.\n",
    "- then, import needed datasets, `PracticeData` and `PracticeGrades`\n",
    "and assign them with understandable names."
   ]
  },
  {
   "cell_type": "code",
   "execution_count": 12,
   "metadata": {
    "id": "b2y3q_yODwr-"
   },
   "outputs": [],
   "source": [
    "import pandas as pd\n",
    "import numpy as np"
   ]
  },
  {
   "cell_type": "code",
   "execution_count": 18,
   "metadata": {
    "id": "hytCck89D_3i"
   },
   "outputs": [
    {
     "data": {
      "text/html": [
       "<div>\n",
       "<style scoped>\n",
       "    .dataframe tbody tr th:only-of-type {\n",
       "        vertical-align: middle;\n",
       "    }\n",
       "\n",
       "    .dataframe tbody tr th {\n",
       "        vertical-align: top;\n",
       "    }\n",
       "\n",
       "    .dataframe thead th {\n",
       "        text-align: right;\n",
       "    }\n",
       "</style>\n",
       "<table border=\"1\" class=\"dataframe\">\n",
       "  <thead>\n",
       "    <tr style=\"text-align: right;\">\n",
       "      <th></th>\n",
       "      <th>ID</th>\n",
       "      <th>gender</th>\n",
       "      <th>race/ethnicity</th>\n",
       "      <th>parental level of education</th>\n",
       "      <th>lunch</th>\n",
       "      <th>test preparation course</th>\n",
       "    </tr>\n",
       "  </thead>\n",
       "  <tbody>\n",
       "    <tr>\n",
       "      <th>0</th>\n",
       "      <td>20424</td>\n",
       "      <td>female</td>\n",
       "      <td>group B</td>\n",
       "      <td>bachelor's degree</td>\n",
       "      <td>standard</td>\n",
       "      <td>none</td>\n",
       "    </tr>\n",
       "    <tr>\n",
       "      <th>1</th>\n",
       "      <td>22965</td>\n",
       "      <td>female</td>\n",
       "      <td>group C</td>\n",
       "      <td>some college</td>\n",
       "      <td>standard</td>\n",
       "      <td>completed</td>\n",
       "    </tr>\n",
       "    <tr>\n",
       "      <th>2</th>\n",
       "      <td>21822</td>\n",
       "      <td>female</td>\n",
       "      <td>group B</td>\n",
       "      <td>master's degree</td>\n",
       "      <td>standard</td>\n",
       "      <td>none</td>\n",
       "    </tr>\n",
       "    <tr>\n",
       "      <th>3</th>\n",
       "      <td>22231</td>\n",
       "      <td>male</td>\n",
       "      <td>group A</td>\n",
       "      <td>associate's degree</td>\n",
       "      <td>free/reduced</td>\n",
       "      <td>none</td>\n",
       "    </tr>\n",
       "    <tr>\n",
       "      <th>4</th>\n",
       "      <td>20627</td>\n",
       "      <td>male</td>\n",
       "      <td>group C</td>\n",
       "      <td>some college</td>\n",
       "      <td>Standard</td>\n",
       "      <td>none</td>\n",
       "    </tr>\n",
       "  </tbody>\n",
       "</table>\n",
       "</div>"
      ],
      "text/plain": [
       "      ID  gender race/ethnicity parental level of education         lunch  \\\n",
       "0  20424  female        group B           bachelor's degree      standard   \n",
       "1  22965  female        group C                some college      standard   \n",
       "2  21822  female        group B             master's degree      standard   \n",
       "3  22231    male        group A          associate's degree  free/reduced   \n",
       "4  20627    male        group C                some college      Standard   \n",
       "\n",
       "  test preparation course  \n",
       "0                    none  \n",
       "1               completed  \n",
       "2                    none  \n",
       "3                    none  \n",
       "4                    none  "
      ]
     },
     "execution_count": 18,
     "metadata": {},
     "output_type": "execute_result"
    }
   ],
   "source": [
    "PracticeData=pd.read_csv(r\"C:\\Users\\Marina\\Downloads\\PracticeData (1).csv\")\n",
    "PracticeData.head()"
   ]
  },
  {
   "cell_type": "code",
   "execution_count": 19,
   "metadata": {},
   "outputs": [
    {
     "data": {
      "text/html": [
       "<div>\n",
       "<style scoped>\n",
       "    .dataframe tbody tr th:only-of-type {\n",
       "        vertical-align: middle;\n",
       "    }\n",
       "\n",
       "    .dataframe tbody tr th {\n",
       "        vertical-align: top;\n",
       "    }\n",
       "\n",
       "    .dataframe thead th {\n",
       "        text-align: right;\n",
       "    }\n",
       "</style>\n",
       "<table border=\"1\" class=\"dataframe\">\n",
       "  <thead>\n",
       "    <tr style=\"text-align: right;\">\n",
       "      <th></th>\n",
       "      <th>ID</th>\n",
       "      <th>math score</th>\n",
       "      <th>reading score</th>\n",
       "      <th>writing score</th>\n",
       "    </tr>\n",
       "  </thead>\n",
       "  <tbody>\n",
       "    <tr>\n",
       "      <th>0</th>\n",
       "      <td>20424</td>\n",
       "      <td>72.0</td>\n",
       "      <td>72</td>\n",
       "      <td>74</td>\n",
       "    </tr>\n",
       "    <tr>\n",
       "      <th>1</th>\n",
       "      <td>22965</td>\n",
       "      <td>69.0</td>\n",
       "      <td>90</td>\n",
       "      <td>88</td>\n",
       "    </tr>\n",
       "    <tr>\n",
       "      <th>2</th>\n",
       "      <td>21822</td>\n",
       "      <td>90.0</td>\n",
       "      <td>95</td>\n",
       "      <td>93</td>\n",
       "    </tr>\n",
       "    <tr>\n",
       "      <th>3</th>\n",
       "      <td>22231</td>\n",
       "      <td>47.0</td>\n",
       "      <td>57</td>\n",
       "      <td>44</td>\n",
       "    </tr>\n",
       "    <tr>\n",
       "      <th>4</th>\n",
       "      <td>20627</td>\n",
       "      <td>76.0</td>\n",
       "      <td>78</td>\n",
       "      <td>75</td>\n",
       "    </tr>\n",
       "  </tbody>\n",
       "</table>\n",
       "</div>"
      ],
      "text/plain": [
       "      ID  math score reading score writing score\n",
       "0  20424        72.0            72            74\n",
       "1  22965        69.0            90            88\n",
       "2  21822        90.0            95            93\n",
       "3  22231        47.0            57            44\n",
       "4  20627        76.0            78            75"
      ]
     },
     "execution_count": 19,
     "metadata": {},
     "output_type": "execute_result"
    }
   ],
   "source": [
    "PracticeGrades=pd.read_csv(r\"C:\\Users\\Marina\\Downloads\\PracticeGrades (1).csv\")\n",
    "PracticeGrades.head()"
   ]
  },
  {
   "cell_type": "markdown",
   "metadata": {
    "id": "O0jzYHicEDe6"
   },
   "source": [
    "### 2. Concatenate teams into one DataFrame\n",
    "- join `PracticeData` and `PracticeGrades` and clean dataframe."
   ]
  },
  {
   "cell_type": "code",
   "execution_count": 22,
   "metadata": {
    "id": "vvPnVp9UEInI"
   },
   "outputs": [
    {
     "data": {
      "text/html": [
       "<div>\n",
       "<style scoped>\n",
       "    .dataframe tbody tr th:only-of-type {\n",
       "        vertical-align: middle;\n",
       "    }\n",
       "\n",
       "    .dataframe tbody tr th {\n",
       "        vertical-align: top;\n",
       "    }\n",
       "\n",
       "    .dataframe thead th {\n",
       "        text-align: right;\n",
       "    }\n",
       "</style>\n",
       "<table border=\"1\" class=\"dataframe\">\n",
       "  <thead>\n",
       "    <tr style=\"text-align: right;\">\n",
       "      <th></th>\n",
       "      <th>ID</th>\n",
       "      <th>gender</th>\n",
       "      <th>race/ethnicity</th>\n",
       "      <th>parental level of education</th>\n",
       "      <th>lunch</th>\n",
       "      <th>test preparation course</th>\n",
       "      <th>math score</th>\n",
       "      <th>reading score</th>\n",
       "      <th>writing score</th>\n",
       "    </tr>\n",
       "  </thead>\n",
       "  <tbody>\n",
       "    <tr>\n",
       "      <th>0</th>\n",
       "      <td>20424</td>\n",
       "      <td>female</td>\n",
       "      <td>group B</td>\n",
       "      <td>bachelor's degree</td>\n",
       "      <td>standard</td>\n",
       "      <td>none</td>\n",
       "      <td>72.0</td>\n",
       "      <td>72</td>\n",
       "      <td>74</td>\n",
       "    </tr>\n",
       "    <tr>\n",
       "      <th>1</th>\n",
       "      <td>22965</td>\n",
       "      <td>female</td>\n",
       "      <td>group C</td>\n",
       "      <td>some college</td>\n",
       "      <td>standard</td>\n",
       "      <td>completed</td>\n",
       "      <td>69.0</td>\n",
       "      <td>90</td>\n",
       "      <td>88</td>\n",
       "    </tr>\n",
       "    <tr>\n",
       "      <th>2</th>\n",
       "      <td>21822</td>\n",
       "      <td>female</td>\n",
       "      <td>group B</td>\n",
       "      <td>master's degree</td>\n",
       "      <td>standard</td>\n",
       "      <td>none</td>\n",
       "      <td>90.0</td>\n",
       "      <td>95</td>\n",
       "      <td>93</td>\n",
       "    </tr>\n",
       "    <tr>\n",
       "      <th>3</th>\n",
       "      <td>22231</td>\n",
       "      <td>male</td>\n",
       "      <td>group A</td>\n",
       "      <td>associate's degree</td>\n",
       "      <td>free/reduced</td>\n",
       "      <td>none</td>\n",
       "      <td>47.0</td>\n",
       "      <td>57</td>\n",
       "      <td>44</td>\n",
       "    </tr>\n",
       "    <tr>\n",
       "      <th>4</th>\n",
       "      <td>20627</td>\n",
       "      <td>male</td>\n",
       "      <td>group C</td>\n",
       "      <td>some college</td>\n",
       "      <td>Standard</td>\n",
       "      <td>none</td>\n",
       "      <td>76.0</td>\n",
       "      <td>78</td>\n",
       "      <td>75</td>\n",
       "    </tr>\n",
       "  </tbody>\n",
       "</table>\n",
       "</div>"
      ],
      "text/plain": [
       "      ID  gender race/ethnicity parental level of education         lunch  \\\n",
       "0  20424  female        group B           bachelor's degree      standard   \n",
       "1  22965  female        group C                some college      standard   \n",
       "2  21822  female        group B             master's degree      standard   \n",
       "3  22231    male        group A          associate's degree  free/reduced   \n",
       "4  20627    male        group C                some college      Standard   \n",
       "\n",
       "  test preparation course  math score reading score writing score  \n",
       "0                    none        72.0            72            74  \n",
       "1               completed        69.0            90            88  \n",
       "2                    none        90.0            95            93  \n",
       "3                    none        47.0            57            44  \n",
       "4                    none        76.0            78            75  "
      ]
     },
     "execution_count": 22,
     "metadata": {},
     "output_type": "execute_result"
    }
   ],
   "source": [
    "Practice=pd.merge(PracticeData,PracticeGrades)\n",
    "Practice.head()"
   ]
  },
  {
   "cell_type": "markdown",
   "metadata": {
    "id": "wAtJrJIlE-dx"
   },
   "source": [
    "### 3. Exploratory DataAnalysis & Define Problems ;)\n",
    "- hint: start with `info()` and `isnull()` to find the problems need to be solved.\n",
    "- you have problems in this data, you need to find them out and solve them to make a clean dataset.\n",
    "- don't use `dropna()` to solve null values problems. "
   ]
  },
  {
   "cell_type": "code",
   "execution_count": 36,
   "metadata": {
    "id": "Xf2Xnj8BGZ3O"
   },
   "outputs": [
    {
     "name": "stdout",
     "output_type": "stream",
     "text": [
      "<class 'pandas.core.frame.DataFrame'>\n",
      "Int64Index: 1000 entries, 0 to 999\n",
      "Data columns (total 9 columns):\n",
      " #   Column                       Non-Null Count  Dtype  \n",
      "---  ------                       --------------  -----  \n",
      " 0   ID                           1000 non-null   int64  \n",
      " 1   gender                       1000 non-null   object \n",
      " 2   race/ethnicity               1000 non-null   object \n",
      " 3   parental level of education  1000 non-null   object \n",
      " 4   lunch                        1000 non-null   object \n",
      " 5   test preparation course      1000 non-null   object \n",
      " 6   math score                   1000 non-null   float64\n",
      " 7   reading score                1000 non-null   object \n",
      " 8   writing score                1000 non-null   object \n",
      "dtypes: float64(1), int64(1), object(7)\n",
      "memory usage: 78.1+ KB\n"
     ]
    }
   ],
   "source": [
    "Practice.info()"
   ]
  },
  {
   "cell_type": "code",
   "execution_count": 25,
   "metadata": {
    "id": "PHVJS9WTGdfd"
   },
   "outputs": [
    {
     "data": {
      "text/plain": [
       "ID                             0\n",
       "gender                         0\n",
       "race/ethnicity                 0\n",
       "parental level of education    0\n",
       "lunch                          0\n",
       "test preparation course        0\n",
       "math score                     8\n",
       "reading score                  0\n",
       "writing score                  0\n",
       "dtype: int64"
      ]
     },
     "execution_count": 25,
     "metadata": {},
     "output_type": "execute_result"
    }
   ],
   "source": [
    "Practice.isnull().sum()"
   ]
  },
  {
   "cell_type": "code",
   "execution_count": 27,
   "metadata": {},
   "outputs": [],
   "source": [
    "x=Practice['math score'].mean()"
   ]
  },
  {
   "cell_type": "code",
   "execution_count": 31,
   "metadata": {
    "id": "ONNH6zQAGdkm"
   },
   "outputs": [],
   "source": [
    "Practice['math score'].fillna(x,inplace=True)"
   ]
  },
  {
   "cell_type": "code",
   "execution_count": 32,
   "metadata": {},
   "outputs": [
    {
     "data": {
      "text/plain": [
       "ID                             0\n",
       "gender                         0\n",
       "race/ethnicity                 0\n",
       "parental level of education    0\n",
       "lunch                          0\n",
       "test preparation course        0\n",
       "math score                     0\n",
       "reading score                  0\n",
       "writing score                  0\n",
       "dtype: int64"
      ]
     },
     "execution_count": 32,
     "metadata": {},
     "output_type": "execute_result"
    }
   ],
   "source": [
    "Practice.isnull().sum()"
   ]
  },
  {
   "cell_type": "code",
   "execution_count": 33,
   "metadata": {},
   "outputs": [
    {
     "data": {
      "text/plain": [
       "array(['female', 'male', 'f', 'm'], dtype=object)"
      ]
     },
     "execution_count": 33,
     "metadata": {},
     "output_type": "execute_result"
    }
   ],
   "source": [
    "Practice['gender'].unique()"
   ]
  },
  {
   "cell_type": "code",
   "execution_count": 41,
   "metadata": {},
   "outputs": [],
   "source": [
    "Practice['gender']=Practice['gender'].replace(\"f\",\"female\")\n",
    "Practice['gender']=Practice['gender'].replace(\"m\",\"male\")"
   ]
  },
  {
   "cell_type": "code",
   "execution_count": 45,
   "metadata": {},
   "outputs": [
    {
     "data": {
      "text/plain": [
       "array(['group B', 'group C', 'group A', 'group D', 'group E', 'group c',\n",
       "       'group d'], dtype=object)"
      ]
     },
     "execution_count": 45,
     "metadata": {},
     "output_type": "execute_result"
    }
   ],
   "source": [
    "Practice['race/ethnicity'].unique()"
   ]
  },
  {
   "cell_type": "code",
   "execution_count": 48,
   "metadata": {},
   "outputs": [],
   "source": [
    "Practice['race/ethnicity']=Practice['race/ethnicity'].str.lower()"
   ]
  },
  {
   "cell_type": "code",
   "execution_count": 49,
   "metadata": {},
   "outputs": [
    {
     "data": {
      "text/plain": [
       "array(['group b', 'group c', 'group a', 'group d', 'group e'],\n",
       "      dtype=object)"
      ]
     },
     "execution_count": 49,
     "metadata": {},
     "output_type": "execute_result"
    }
   ],
   "source": [
    "Practice['race/ethnicity'].unique()"
   ]
  },
  {
   "cell_type": "code",
   "execution_count": 50,
   "metadata": {},
   "outputs": [
    {
     "data": {
      "text/plain": [
       "array(['72', '90', '95', '57', '78', '83', '43', '64', '60', '54', '52',\n",
       "       '81', '53', '75', '89', '32', '42', '58', '69', '73', '71', '74',\n",
       "       '70', '65', '87', '56', '61', '84', '55', '44', '41', '85', '59',\n",
       "       '17', '39', '80', '37', '63', '51', '49', '26', '68', '45', '47',\n",
       "       '86', '34', '79', '66', '67', '91', '100', '76', '77', '82', '92',\n",
       "       '93', '-', '62', '88', '50', '28', '..', '48', '46', '23', '38',\n",
       "       '94', '97', '99', '31', '96', '24', '29', '40'], dtype=object)"
      ]
     },
     "execution_count": 50,
     "metadata": {},
     "output_type": "execute_result"
    }
   ],
   "source": [
    "Practice['reading score'].unique()"
   ]
  },
  {
   "cell_type": "code",
   "execution_count": 60,
   "metadata": {},
   "outputs": [],
   "source": [
    "Practice['reading score']=Practice['reading score'].replace(\"-\",np.nan)\n",
    "Practice['reading score']=Practice['reading score'].replace(\"..\",np.nan)\n",
    "Practice['reading score']=Practice['reading score'].astype(float)"
   ]
  },
  {
   "cell_type": "code",
   "execution_count": 63,
   "metadata": {},
   "outputs": [
    {
     "name": "stdout",
     "output_type": "stream",
     "text": [
      "<class 'pandas.core.frame.DataFrame'>\n",
      "Int64Index: 1000 entries, 0 to 999\n",
      "Data columns (total 9 columns):\n",
      " #   Column                       Non-Null Count  Dtype  \n",
      "---  ------                       --------------  -----  \n",
      " 0   ID                           1000 non-null   int64  \n",
      " 1   gender                       1000 non-null   object \n",
      " 2   race/ethnicity               1000 non-null   object \n",
      " 3   parental level of education  1000 non-null   object \n",
      " 4   lunch                        1000 non-null   object \n",
      " 5   test preparation course      1000 non-null   object \n",
      " 6   math score                   1000 non-null   float64\n",
      " 7   reading score                1000 non-null   float64\n",
      " 8   writing score                1000 non-null   object \n",
      "dtypes: float64(2), int64(1), object(6)\n",
      "memory usage: 78.1+ KB\n"
     ]
    }
   ],
   "source": [
    "x=Practice['reading score'].mean()\n",
    "Practice['reading score']=Practice['reading score'].fillna(x)\n",
    "Practice.info()"
   ]
  },
  {
   "cell_type": "code",
   "execution_count": 64,
   "metadata": {},
   "outputs": [
    {
     "data": {
      "text/plain": [
       "array(['74', '88', '93', '44', '75', '78', '92', '39', '67', '50', '52',\n",
       "       '43', '73', '70', '58', '86', '28', '46', '61', '63', '53', '80',\n",
       "       '72', '55', '65', '38', '82', '79', '83', '59', '57', '54', '68',\n",
       "       '66', '62', '76', '48', '42', '87', '49', '10', '34', '71', '37',\n",
       "       '56', '41', '22', '81', '45', '36', '89', '47', '90', '100', '64',\n",
       "       '98', '51', '40', '84', '69', '33', '60', '85', '91', '77', '27',\n",
       "       '94', '95', '60%', '69%', '19', '35', '32', '96', '97', '99', '15',\n",
       "       '30', '23'], dtype=object)"
      ]
     },
     "execution_count": 64,
     "metadata": {},
     "output_type": "execute_result"
    }
   ],
   "source": [
    "Practice['writing score'].unique()"
   ]
  },
  {
   "cell_type": "code",
   "execution_count": 68,
   "metadata": {},
   "outputs": [],
   "source": [
    "Practice['writing score']=Practice['writing score'].str.replace(\"%\",\"\")\n",
    "Practice['writing score']=Practice['writing score'].astype(float)"
   ]
  },
  {
   "cell_type": "code",
   "execution_count": 69,
   "metadata": {},
   "outputs": [
    {
     "name": "stdout",
     "output_type": "stream",
     "text": [
      "<class 'pandas.core.frame.DataFrame'>\n",
      "Int64Index: 1000 entries, 0 to 999\n",
      "Data columns (total 9 columns):\n",
      " #   Column                       Non-Null Count  Dtype  \n",
      "---  ------                       --------------  -----  \n",
      " 0   ID                           1000 non-null   int64  \n",
      " 1   gender                       1000 non-null   object \n",
      " 2   race/ethnicity               1000 non-null   object \n",
      " 3   parental level of education  1000 non-null   object \n",
      " 4   lunch                        1000 non-null   object \n",
      " 5   test preparation course      1000 non-null   object \n",
      " 6   math score                   1000 non-null   float64\n",
      " 7   reading score                1000 non-null   float64\n",
      " 8   writing score                1000 non-null   float64\n",
      "dtypes: float64(3), int64(1), object(5)\n",
      "memory usage: 78.1+ KB\n"
     ]
    }
   ],
   "source": [
    "Practice.info()"
   ]
  },
  {
   "cell_type": "markdown",
   "metadata": {
    "id": "6xL6bNzEIfIu"
   },
   "source": [
    "### 4. Task \n",
    "- required: ID of highest `writing score`\n",
    "- required: ID of highest `reading score`\n",
    "- required: ID of highest `math score`\n"
   ]
  },
  {
   "cell_type": "code",
   "execution_count": 70,
   "metadata": {
    "scrolled": true
   },
   "outputs": [
    {
     "data": {
      "text/html": [
       "<div>\n",
       "<style scoped>\n",
       "    .dataframe tbody tr th:only-of-type {\n",
       "        vertical-align: middle;\n",
       "    }\n",
       "\n",
       "    .dataframe tbody tr th {\n",
       "        vertical-align: top;\n",
       "    }\n",
       "\n",
       "    .dataframe thead th {\n",
       "        text-align: right;\n",
       "    }\n",
       "</style>\n",
       "<table border=\"1\" class=\"dataframe\">\n",
       "  <thead>\n",
       "    <tr style=\"text-align: right;\">\n",
       "      <th></th>\n",
       "      <th>ID</th>\n",
       "      <th>gender</th>\n",
       "      <th>race/ethnicity</th>\n",
       "      <th>parental level of education</th>\n",
       "      <th>lunch</th>\n",
       "      <th>test preparation course</th>\n",
       "      <th>math score</th>\n",
       "      <th>reading score</th>\n",
       "      <th>writing score</th>\n",
       "    </tr>\n",
       "  </thead>\n",
       "  <tbody>\n",
       "    <tr>\n",
       "      <th>179</th>\n",
       "      <td>24575</td>\n",
       "      <td>female</td>\n",
       "      <td>group d</td>\n",
       "      <td>some high school</td>\n",
       "      <td>standard</td>\n",
       "      <td>completed</td>\n",
       "      <td>97.0</td>\n",
       "      <td>100.0</td>\n",
       "      <td>100.0</td>\n",
       "    </tr>\n",
       "    <tr>\n",
       "      <th>114</th>\n",
       "      <td>24250</td>\n",
       "      <td>female</td>\n",
       "      <td>group e</td>\n",
       "      <td>bachelor's degree</td>\n",
       "      <td>standard</td>\n",
       "      <td>completed</td>\n",
       "      <td>99.0</td>\n",
       "      <td>100.0</td>\n",
       "      <td>100.0</td>\n",
       "    </tr>\n",
       "    <tr>\n",
       "      <th>903</th>\n",
       "      <td>24871</td>\n",
       "      <td>female</td>\n",
       "      <td>group d</td>\n",
       "      <td>bachelor's degree</td>\n",
       "      <td>free/reduced</td>\n",
       "      <td>completed</td>\n",
       "      <td>93.0</td>\n",
       "      <td>100.0</td>\n",
       "      <td>100.0</td>\n",
       "    </tr>\n",
       "    <tr>\n",
       "      <th>403</th>\n",
       "      <td>22534</td>\n",
       "      <td>female</td>\n",
       "      <td>group d</td>\n",
       "      <td>high school</td>\n",
       "      <td>standard</td>\n",
       "      <td>completed</td>\n",
       "      <td>88.0</td>\n",
       "      <td>99.0</td>\n",
       "      <td>100.0</td>\n",
       "    </tr>\n",
       "    <tr>\n",
       "      <th>458</th>\n",
       "      <td>20288</td>\n",
       "      <td>female</td>\n",
       "      <td>group e</td>\n",
       "      <td>bachelor's degree</td>\n",
       "      <td>standard</td>\n",
       "      <td>none</td>\n",
       "      <td>100.0</td>\n",
       "      <td>100.0</td>\n",
       "      <td>100.0</td>\n",
       "    </tr>\n",
       "    <tr>\n",
       "      <th>...</th>\n",
       "      <td>...</td>\n",
       "      <td>...</td>\n",
       "      <td>...</td>\n",
       "      <td>...</td>\n",
       "      <td>...</td>\n",
       "      <td>...</td>\n",
       "      <td>...</td>\n",
       "      <td>...</td>\n",
       "      <td>...</td>\n",
       "    </tr>\n",
       "    <tr>\n",
       "      <th>980</th>\n",
       "      <td>21677</td>\n",
       "      <td>female</td>\n",
       "      <td>group b</td>\n",
       "      <td>high school</td>\n",
       "      <td>free/reduced</td>\n",
       "      <td>none</td>\n",
       "      <td>8.0</td>\n",
       "      <td>24.0</td>\n",
       "      <td>23.0</td>\n",
       "    </tr>\n",
       "    <tr>\n",
       "      <th>76</th>\n",
       "      <td>23493</td>\n",
       "      <td>male</td>\n",
       "      <td>group e</td>\n",
       "      <td>some high school</td>\n",
       "      <td>standard</td>\n",
       "      <td>none</td>\n",
       "      <td>30.0</td>\n",
       "      <td>26.0</td>\n",
       "      <td>22.0</td>\n",
       "    </tr>\n",
       "    <tr>\n",
       "      <th>327</th>\n",
       "      <td>21378</td>\n",
       "      <td>male</td>\n",
       "      <td>group a</td>\n",
       "      <td>some college</td>\n",
       "      <td>free/reduced</td>\n",
       "      <td>none</td>\n",
       "      <td>28.0</td>\n",
       "      <td>23.0</td>\n",
       "      <td>19.0</td>\n",
       "    </tr>\n",
       "    <tr>\n",
       "      <th>596</th>\n",
       "      <td>24404</td>\n",
       "      <td>male</td>\n",
       "      <td>group b</td>\n",
       "      <td>high school</td>\n",
       "      <td>free/reduced</td>\n",
       "      <td>none</td>\n",
       "      <td>30.0</td>\n",
       "      <td>24.0</td>\n",
       "      <td>15.0</td>\n",
       "    </tr>\n",
       "    <tr>\n",
       "      <th>59</th>\n",
       "      <td>24734</td>\n",
       "      <td>female</td>\n",
       "      <td>group c</td>\n",
       "      <td>some high school</td>\n",
       "      <td>free/reduced</td>\n",
       "      <td>none</td>\n",
       "      <td>0.0</td>\n",
       "      <td>17.0</td>\n",
       "      <td>10.0</td>\n",
       "    </tr>\n",
       "  </tbody>\n",
       "</table>\n",
       "<p>1000 rows × 9 columns</p>\n",
       "</div>"
      ],
      "text/plain": [
       "        ID  gender race/ethnicity parental level of education         lunch  \\\n",
       "179  24575  female        group d            some high school      standard   \n",
       "114  24250  female        group e           bachelor's degree      standard   \n",
       "903  24871  female        group d           bachelor's degree  free/reduced   \n",
       "403  22534  female        group d                 high school      standard   \n",
       "458  20288  female        group e           bachelor's degree      standard   \n",
       "..     ...     ...            ...                         ...           ...   \n",
       "980  21677  female        group b                 high school  free/reduced   \n",
       "76   23493    male        group e            some high school      standard   \n",
       "327  21378    male        group a                some college  free/reduced   \n",
       "596  24404    male        group b                 high school  free/reduced   \n",
       "59   24734  female        group c            some high school  free/reduced   \n",
       "\n",
       "    test preparation course  math score  reading score  writing score  \n",
       "179               completed        97.0          100.0          100.0  \n",
       "114               completed        99.0          100.0          100.0  \n",
       "903               completed        93.0          100.0          100.0  \n",
       "403               completed        88.0           99.0          100.0  \n",
       "458                    none       100.0          100.0          100.0  \n",
       "..                      ...         ...            ...            ...  \n",
       "980                    none         8.0           24.0           23.0  \n",
       "76                     none        30.0           26.0           22.0  \n",
       "327                    none        28.0           23.0           19.0  \n",
       "596                    none        30.0           24.0           15.0  \n",
       "59                     none         0.0           17.0           10.0  \n",
       "\n",
       "[1000 rows x 9 columns]"
      ]
     },
     "execution_count": 70,
     "metadata": {},
     "output_type": "execute_result"
    }
   ],
   "source": [
    "Practice.sort_values(by=[\"writing score\"],ascending=False)"
   ]
  },
  {
   "cell_type": "code",
   "execution_count": null,
   "metadata": {
    "id": "y25xsChuJJou"
   },
   "outputs": [],
   "source": []
  },
  {
   "cell_type": "code",
   "execution_count": null,
   "metadata": {
    "id": "Pyu9jUkDJKF0"
   },
   "outputs": [],
   "source": []
  },
  {
   "cell_type": "code",
   "execution_count": null,
   "metadata": {
    "id": "OcRYRi4FJKXg"
   },
   "outputs": [],
   "source": []
  },
  {
   "cell_type": "markdown",
   "metadata": {
    "id": "25PIiAUaGgrP"
   },
   "source": [
    "### 5. **EXIT TICKET ;)** \n",
    "- Create `total` column (sum of scores)\n",
    "- Create  `grade` column (F, D, C, B, A)"
   ]
  },
  {
   "cell_type": "code",
   "execution_count": null,
   "metadata": {
    "id": "jyanA47MHQU9"
   },
   "outputs": [],
   "source": []
  }
 ],
 "metadata": {
  "colab": {
   "collapsed_sections": [
    "MfW3khIaC5n_"
   ],
   "name": "Practice_session_3.ipynb",
   "provenance": []
  },
  "kernelspec": {
   "display_name": "Python 3",
   "language": "python",
   "name": "python3"
  },
  "language_info": {
   "codemirror_mode": {
    "name": "ipython",
    "version": 3
   },
   "file_extension": ".py",
   "mimetype": "text/x-python",
   "name": "python",
   "nbconvert_exporter": "python",
   "pygments_lexer": "ipython3",
   "version": "3.8.8"
  }
 },
 "nbformat": 4,
 "nbformat_minor": 1
}

{
 "cells": [
  {
   "cell_type": "code",
   "execution_count": 100,
   "metadata": {},
   "outputs": [],
   "source": [
    "import numpy as np\n",
    "import pandas as pd"
   ]
  },
  {
   "cell_type": "code",
   "execution_count": 101,
   "metadata": {
    "scrolled": true
   },
   "outputs": [
    {
     "data": {
      "text/html": [
       "<div>\n",
       "<style scoped>\n",
       "    .dataframe tbody tr th:only-of-type {\n",
       "        vertical-align: middle;\n",
       "    }\n",
       "\n",
       "    .dataframe tbody tr th {\n",
       "        vertical-align: top;\n",
       "    }\n",
       "\n",
       "    .dataframe thead th {\n",
       "        text-align: right;\n",
       "    }\n",
       "</style>\n",
       "<table border=\"1\" class=\"dataframe\">\n",
       "  <thead>\n",
       "    <tr style=\"text-align: right;\">\n",
       "      <th></th>\n",
       "      <th>Cement</th>\n",
       "      <th>Blast Furnace Slag</th>\n",
       "      <th>Fly Ash</th>\n",
       "      <th>Water</th>\n",
       "      <th>Superplasticizer</th>\n",
       "      <th>Coarse Aggregate</th>\n",
       "      <th>Fine Aggregate</th>\n",
       "      <th>Age</th>\n",
       "      <th>Strength</th>\n",
       "    </tr>\n",
       "  </thead>\n",
       "  <tbody>\n",
       "    <tr>\n",
       "      <th>0</th>\n",
       "      <td>540.0</td>\n",
       "      <td>0.0</td>\n",
       "      <td>0.0</td>\n",
       "      <td>162.0</td>\n",
       "      <td>2.5</td>\n",
       "      <td>1040.0</td>\n",
       "      <td>676.0</td>\n",
       "      <td>28</td>\n",
       "      <td>79.99</td>\n",
       "    </tr>\n",
       "    <tr>\n",
       "      <th>1</th>\n",
       "      <td>540.0</td>\n",
       "      <td>0.0</td>\n",
       "      <td>0.0</td>\n",
       "      <td>162.0</td>\n",
       "      <td>2.5</td>\n",
       "      <td>1055.0</td>\n",
       "      <td>676.0</td>\n",
       "      <td>28</td>\n",
       "      <td>61.89</td>\n",
       "    </tr>\n",
       "    <tr>\n",
       "      <th>2</th>\n",
       "      <td>332.5</td>\n",
       "      <td>142.5</td>\n",
       "      <td>0.0</td>\n",
       "      <td>228.0</td>\n",
       "      <td>0.0</td>\n",
       "      <td>932.0</td>\n",
       "      <td>594.0</td>\n",
       "      <td>270</td>\n",
       "      <td>40.27</td>\n",
       "    </tr>\n",
       "    <tr>\n",
       "      <th>3</th>\n",
       "      <td>332.5</td>\n",
       "      <td>142.5</td>\n",
       "      <td>0.0</td>\n",
       "      <td>228.0</td>\n",
       "      <td>0.0</td>\n",
       "      <td>932.0</td>\n",
       "      <td>594.0</td>\n",
       "      <td>365</td>\n",
       "      <td>41.05</td>\n",
       "    </tr>\n",
       "    <tr>\n",
       "      <th>4</th>\n",
       "      <td>198.6</td>\n",
       "      <td>132.4</td>\n",
       "      <td>0.0</td>\n",
       "      <td>192.0</td>\n",
       "      <td>0.0</td>\n",
       "      <td>978.4</td>\n",
       "      <td>825.5</td>\n",
       "      <td>360</td>\n",
       "      <td>44.30</td>\n",
       "    </tr>\n",
       "  </tbody>\n",
       "</table>\n",
       "</div>"
      ],
      "text/plain": [
       "   Cement  Blast Furnace Slag  Fly Ash  Water  Superplasticizer  \\\n",
       "0   540.0                 0.0      0.0  162.0               2.5   \n",
       "1   540.0                 0.0      0.0  162.0               2.5   \n",
       "2   332.5               142.5      0.0  228.0               0.0   \n",
       "3   332.5               142.5      0.0  228.0               0.0   \n",
       "4   198.6               132.4      0.0  192.0               0.0   \n",
       "\n",
       "   Coarse Aggregate  Fine Aggregate  Age  Strength  \n",
       "0            1040.0           676.0   28     79.99  \n",
       "1            1055.0           676.0   28     61.89  \n",
       "2             932.0           594.0  270     40.27  \n",
       "3             932.0           594.0  365     41.05  \n",
       "4             978.4           825.5  360     44.30  "
      ]
     },
     "execution_count": 101,
     "metadata": {},
     "output_type": "execute_result"
    }
   ],
   "source": [
    "data = pd.read_csv(\"concrete_data.csv\")\n",
    "data.head()"
   ]
  },
  {
   "cell_type": "code",
   "execution_count": 103,
   "metadata": {},
   "outputs": [],
   "source": [
    "from sklearn.model_selection import train_test_split\n",
    "X_train, X_test, Y_train, Y_test = train_test_split(X, Y, test_size = .2, random_state=2021)"
   ]
  },
  {
   "cell_type": "code",
   "execution_count": 104,
   "metadata": {},
   "outputs": [],
   "source": [
    "from sklearn.ensemble import RandomForestRegressor\n",
    "RandomForestRegressorModel = RandomForestRegressor(random_state = 2021)"
   ]
  },
  {
   "cell_type": "code",
   "execution_count": 105,
   "metadata": {},
   "outputs": [],
   "source": [
    "# make a dictionary of hyperparameter values to search\n",
    "search_space = {\n",
    "    \"n_estimators\" : [100, 200, 500,600],\n",
    "    \"max_depth\" : [3, 6, 9],\n",
    "}"
   ]
  },
  {
   "cell_type": "code",
   "execution_count": 111,
   "metadata": {},
   "outputs": [],
   "source": [
    "from sklearn.model_selection import GridSearchCV\n",
    "# make a GridSearchCV object\n",
    "GS = GridSearchCV(estimator = RandomForestRegressorModel,\n",
    "                  param_grid = search_space, \n",
    "                  scoring = [\"r2\", \"neg_root_mean_squared_error\"], #sklearn.metrics.SCORERS.keys() #comparing the 45 models.\n",
    "                  refit = \"r2\", #seleting the best model. i - error square/total square\n",
    "                  cv = 5, #shuffling data.\n",
    "                  verbose = 4) #shwoing 4 params."
   ]
  },
  {
   "cell_type": "code",
   "execution_count": 112,
   "metadata": {},
   "outputs": [
    {
     "name": "stdout",
     "output_type": "stream",
     "text": [
      "Fitting 5 folds for each of 9 candidates, totalling 45 fits\n",
      "[CV 1/5] END max_depth=3, n_estimators=100; neg_root_mean_squared_error: (test=-8.337) r2: (test=0.737) total time=   0.1s\n"
     ]
    },
    {
     "name": "stderr",
     "output_type": "stream",
     "text": [
      "C:\\Users\\dell\\anaconda3\\lib\\site-packages\\sklearn\\model_selection\\_validation.py:598: DataConversionWarning: A column-vector y was passed when a 1d array was expected. Please change the shape of y to (n_samples,), for example using ravel().\n",
      "  estimator.fit(X_train, y_train, **fit_params)\n",
      "C:\\Users\\dell\\anaconda3\\lib\\site-packages\\sklearn\\model_selection\\_validation.py:598: DataConversionWarning: A column-vector y was passed when a 1d array was expected. Please change the shape of y to (n_samples,), for example using ravel().\n",
      "  estimator.fit(X_train, y_train, **fit_params)\n"
     ]
    },
    {
     "name": "stdout",
     "output_type": "stream",
     "text": [
      "[CV 2/5] END max_depth=3, n_estimators=100; neg_root_mean_squared_error: (test=-8.511) r2: (test=0.726) total time=   0.1s\n",
      "[CV 3/5] END max_depth=3, n_estimators=100; neg_root_mean_squared_error: (test=-8.649) r2: (test=0.745) total time=   0.1s\n"
     ]
    },
    {
     "name": "stderr",
     "output_type": "stream",
     "text": [
      "C:\\Users\\dell\\anaconda3\\lib\\site-packages\\sklearn\\model_selection\\_validation.py:598: DataConversionWarning: A column-vector y was passed when a 1d array was expected. Please change the shape of y to (n_samples,), for example using ravel().\n",
      "  estimator.fit(X_train, y_train, **fit_params)\n",
      "C:\\Users\\dell\\anaconda3\\lib\\site-packages\\sklearn\\model_selection\\_validation.py:598: DataConversionWarning: A column-vector y was passed when a 1d array was expected. Please change the shape of y to (n_samples,), for example using ravel().\n",
      "  estimator.fit(X_train, y_train, **fit_params)\n"
     ]
    },
    {
     "name": "stdout",
     "output_type": "stream",
     "text": [
      "[CV 4/5] END max_depth=3, n_estimators=100; neg_root_mean_squared_error: (test=-9.365) r2: (test=0.669) total time=   0.1s\n",
      "[CV 5/5] END max_depth=3, n_estimators=100; neg_root_mean_squared_error: (test=-9.633) r2: (test=0.694) total time=   0.1s\n"
     ]
    },
    {
     "name": "stderr",
     "output_type": "stream",
     "text": [
      "C:\\Users\\dell\\anaconda3\\lib\\site-packages\\sklearn\\model_selection\\_validation.py:598: DataConversionWarning: A column-vector y was passed when a 1d array was expected. Please change the shape of y to (n_samples,), for example using ravel().\n",
      "  estimator.fit(X_train, y_train, **fit_params)\n",
      "C:\\Users\\dell\\anaconda3\\lib\\site-packages\\sklearn\\model_selection\\_validation.py:598: DataConversionWarning: A column-vector y was passed when a 1d array was expected. Please change the shape of y to (n_samples,), for example using ravel().\n",
      "  estimator.fit(X_train, y_train, **fit_params)\n"
     ]
    },
    {
     "name": "stdout",
     "output_type": "stream",
     "text": [
      "[CV 1/5] END max_depth=3, n_estimators=200; neg_root_mean_squared_error: (test=-8.433) r2: (test=0.731) total time=   0.4s\n"
     ]
    },
    {
     "name": "stderr",
     "output_type": "stream",
     "text": [
      "C:\\Users\\dell\\anaconda3\\lib\\site-packages\\sklearn\\model_selection\\_validation.py:598: DataConversionWarning: A column-vector y was passed when a 1d array was expected. Please change the shape of y to (n_samples,), for example using ravel().\n",
      "  estimator.fit(X_train, y_train, **fit_params)\n"
     ]
    },
    {
     "name": "stdout",
     "output_type": "stream",
     "text": [
      "[CV 2/5] END max_depth=3, n_estimators=200; neg_root_mean_squared_error: (test=-8.521) r2: (test=0.726) total time=   0.4s\n"
     ]
    },
    {
     "name": "stderr",
     "output_type": "stream",
     "text": [
      "C:\\Users\\dell\\anaconda3\\lib\\site-packages\\sklearn\\model_selection\\_validation.py:598: DataConversionWarning: A column-vector y was passed when a 1d array was expected. Please change the shape of y to (n_samples,), for example using ravel().\n",
      "  estimator.fit(X_train, y_train, **fit_params)\n"
     ]
    },
    {
     "name": "stdout",
     "output_type": "stream",
     "text": [
      "[CV 3/5] END max_depth=3, n_estimators=200; neg_root_mean_squared_error: (test=-8.631) r2: (test=0.746) total time=   0.3s\n"
     ]
    },
    {
     "name": "stderr",
     "output_type": "stream",
     "text": [
      "C:\\Users\\dell\\anaconda3\\lib\\site-packages\\sklearn\\model_selection\\_validation.py:598: DataConversionWarning: A column-vector y was passed when a 1d array was expected. Please change the shape of y to (n_samples,), for example using ravel().\n",
      "  estimator.fit(X_train, y_train, **fit_params)\n"
     ]
    },
    {
     "name": "stdout",
     "output_type": "stream",
     "text": [
      "[CV 4/5] END max_depth=3, n_estimators=200; neg_root_mean_squared_error: (test=-9.340) r2: (test=0.671) total time=   0.2s\n"
     ]
    },
    {
     "name": "stderr",
     "output_type": "stream",
     "text": [
      "C:\\Users\\dell\\anaconda3\\lib\\site-packages\\sklearn\\model_selection\\_validation.py:598: DataConversionWarning: A column-vector y was passed when a 1d array was expected. Please change the shape of y to (n_samples,), for example using ravel().\n",
      "  estimator.fit(X_train, y_train, **fit_params)\n"
     ]
    },
    {
     "name": "stdout",
     "output_type": "stream",
     "text": [
      "[CV 5/5] END max_depth=3, n_estimators=200; neg_root_mean_squared_error: (test=-9.613) r2: (test=0.695) total time=   0.3s\n"
     ]
    },
    {
     "name": "stderr",
     "output_type": "stream",
     "text": [
      "C:\\Users\\dell\\anaconda3\\lib\\site-packages\\sklearn\\model_selection\\_validation.py:598: DataConversionWarning: A column-vector y was passed when a 1d array was expected. Please change the shape of y to (n_samples,), for example using ravel().\n",
      "  estimator.fit(X_train, y_train, **fit_params)\n"
     ]
    },
    {
     "name": "stdout",
     "output_type": "stream",
     "text": [
      "[CV 1/5] END max_depth=3, n_estimators=500; neg_root_mean_squared_error: (test=-8.438) r2: (test=0.731) total time=   0.8s\n"
     ]
    },
    {
     "name": "stderr",
     "output_type": "stream",
     "text": [
      "C:\\Users\\dell\\anaconda3\\lib\\site-packages\\sklearn\\model_selection\\_validation.py:598: DataConversionWarning: A column-vector y was passed when a 1d array was expected. Please change the shape of y to (n_samples,), for example using ravel().\n",
      "  estimator.fit(X_train, y_train, **fit_params)\n"
     ]
    },
    {
     "name": "stdout",
     "output_type": "stream",
     "text": [
      "[CV 2/5] END max_depth=3, n_estimators=500; neg_root_mean_squared_error: (test=-8.531) r2: (test=0.725) total time=   0.7s\n"
     ]
    },
    {
     "name": "stderr",
     "output_type": "stream",
     "text": [
      "C:\\Users\\dell\\anaconda3\\lib\\site-packages\\sklearn\\model_selection\\_validation.py:598: DataConversionWarning: A column-vector y was passed when a 1d array was expected. Please change the shape of y to (n_samples,), for example using ravel().\n",
      "  estimator.fit(X_train, y_train, **fit_params)\n"
     ]
    },
    {
     "name": "stdout",
     "output_type": "stream",
     "text": [
      "[CV 3/5] END max_depth=3, n_estimators=500; neg_root_mean_squared_error: (test=-8.644) r2: (test=0.745) total time=   0.7s\n"
     ]
    },
    {
     "name": "stderr",
     "output_type": "stream",
     "text": [
      "C:\\Users\\dell\\anaconda3\\lib\\site-packages\\sklearn\\model_selection\\_validation.py:598: DataConversionWarning: A column-vector y was passed when a 1d array was expected. Please change the shape of y to (n_samples,), for example using ravel().\n",
      "  estimator.fit(X_train, y_train, **fit_params)\n"
     ]
    },
    {
     "name": "stdout",
     "output_type": "stream",
     "text": [
      "[CV 4/5] END max_depth=3, n_estimators=500; neg_root_mean_squared_error: (test=-9.450) r2: (test=0.663) total time=   0.7s\n"
     ]
    },
    {
     "name": "stderr",
     "output_type": "stream",
     "text": [
      "C:\\Users\\dell\\anaconda3\\lib\\site-packages\\sklearn\\model_selection\\_validation.py:598: DataConversionWarning: A column-vector y was passed when a 1d array was expected. Please change the shape of y to (n_samples,), for example using ravel().\n",
      "  estimator.fit(X_train, y_train, **fit_params)\n"
     ]
    },
    {
     "name": "stdout",
     "output_type": "stream",
     "text": [
      "[CV 5/5] END max_depth=3, n_estimators=500; neg_root_mean_squared_error: (test=-9.625) r2: (test=0.695) total time=   0.8s\n",
      "[CV 1/5] END max_depth=6, n_estimators=100; neg_root_mean_squared_error: (test=-5.388) r2: (test=0.890) total time=   0.1s\n"
     ]
    },
    {
     "name": "stderr",
     "output_type": "stream",
     "text": [
      "C:\\Users\\dell\\anaconda3\\lib\\site-packages\\sklearn\\model_selection\\_validation.py:598: DataConversionWarning: A column-vector y was passed when a 1d array was expected. Please change the shape of y to (n_samples,), for example using ravel().\n",
      "  estimator.fit(X_train, y_train, **fit_params)\n",
      "C:\\Users\\dell\\anaconda3\\lib\\site-packages\\sklearn\\model_selection\\_validation.py:598: DataConversionWarning: A column-vector y was passed when a 1d array was expected. Please change the shape of y to (n_samples,), for example using ravel().\n",
      "  estimator.fit(X_train, y_train, **fit_params)\n"
     ]
    },
    {
     "name": "stdout",
     "output_type": "stream",
     "text": [
      "[CV 2/5] END max_depth=6, n_estimators=100; neg_root_mean_squared_error: (test=-6.259) r2: (test=0.852) total time=   0.1s\n",
      "[CV 3/5] END max_depth=6, n_estimators=100; neg_root_mean_squared_error: (test=-5.669) r2: (test=0.890) total time=   0.1s\n"
     ]
    },
    {
     "name": "stderr",
     "output_type": "stream",
     "text": [
      "C:\\Users\\dell\\anaconda3\\lib\\site-packages\\sklearn\\model_selection\\_validation.py:598: DataConversionWarning: A column-vector y was passed when a 1d array was expected. Please change the shape of y to (n_samples,), for example using ravel().\n",
      "  estimator.fit(X_train, y_train, **fit_params)\n",
      "C:\\Users\\dell\\anaconda3\\lib\\site-packages\\sklearn\\model_selection\\_validation.py:598: DataConversionWarning: A column-vector y was passed when a 1d array was expected. Please change the shape of y to (n_samples,), for example using ravel().\n",
      "  estimator.fit(X_train, y_train, **fit_params)\n"
     ]
    },
    {
     "name": "stdout",
     "output_type": "stream",
     "text": [
      "[CV 4/5] END max_depth=6, n_estimators=100; neg_root_mean_squared_error: (test=-6.012) r2: (test=0.864) total time=   0.1s\n"
     ]
    },
    {
     "name": "stderr",
     "output_type": "stream",
     "text": [
      "C:\\Users\\dell\\anaconda3\\lib\\site-packages\\sklearn\\model_selection\\_validation.py:598: DataConversionWarning: A column-vector y was passed when a 1d array was expected. Please change the shape of y to (n_samples,), for example using ravel().\n",
      "  estimator.fit(X_train, y_train, **fit_params)\n"
     ]
    },
    {
     "name": "stdout",
     "output_type": "stream",
     "text": [
      "[CV 5/5] END max_depth=6, n_estimators=100; neg_root_mean_squared_error: (test=-6.999) r2: (test=0.839) total time=   0.1s\n"
     ]
    },
    {
     "name": "stderr",
     "output_type": "stream",
     "text": [
      "C:\\Users\\dell\\anaconda3\\lib\\site-packages\\sklearn\\model_selection\\_validation.py:598: DataConversionWarning: A column-vector y was passed when a 1d array was expected. Please change the shape of y to (n_samples,), for example using ravel().\n",
      "  estimator.fit(X_train, y_train, **fit_params)\n"
     ]
    },
    {
     "name": "stdout",
     "output_type": "stream",
     "text": [
      "[CV 1/5] END max_depth=6, n_estimators=200; neg_root_mean_squared_error: (test=-5.302) r2: (test=0.894) total time=   0.3s\n"
     ]
    },
    {
     "name": "stderr",
     "output_type": "stream",
     "text": [
      "C:\\Users\\dell\\anaconda3\\lib\\site-packages\\sklearn\\model_selection\\_validation.py:598: DataConversionWarning: A column-vector y was passed when a 1d array was expected. Please change the shape of y to (n_samples,), for example using ravel().\n",
      "  estimator.fit(X_train, y_train, **fit_params)\n"
     ]
    },
    {
     "name": "stdout",
     "output_type": "stream",
     "text": [
      "[CV 2/5] END max_depth=6, n_estimators=200; neg_root_mean_squared_error: (test=-6.174) r2: (test=0.856) total time=   0.3s\n"
     ]
    },
    {
     "name": "stderr",
     "output_type": "stream",
     "text": [
      "C:\\Users\\dell\\anaconda3\\lib\\site-packages\\sklearn\\model_selection\\_validation.py:598: DataConversionWarning: A column-vector y was passed when a 1d array was expected. Please change the shape of y to (n_samples,), for example using ravel().\n",
      "  estimator.fit(X_train, y_train, **fit_params)\n"
     ]
    },
    {
     "name": "stdout",
     "output_type": "stream",
     "text": [
      "[CV 3/5] END max_depth=6, n_estimators=200; neg_root_mean_squared_error: (test=-5.557) r2: (test=0.895) total time=   0.3s\n"
     ]
    },
    {
     "name": "stderr",
     "output_type": "stream",
     "text": [
      "C:\\Users\\dell\\anaconda3\\lib\\site-packages\\sklearn\\model_selection\\_validation.py:598: DataConversionWarning: A column-vector y was passed when a 1d array was expected. Please change the shape of y to (n_samples,), for example using ravel().\n",
      "  estimator.fit(X_train, y_train, **fit_params)\n"
     ]
    },
    {
     "name": "stdout",
     "output_type": "stream",
     "text": [
      "[CV 4/5] END max_depth=6, n_estimators=200; neg_root_mean_squared_error: (test=-6.016) r2: (test=0.863) total time=   0.3s\n"
     ]
    },
    {
     "name": "stderr",
     "output_type": "stream",
     "text": [
      "C:\\Users\\dell\\anaconda3\\lib\\site-packages\\sklearn\\model_selection\\_validation.py:598: DataConversionWarning: A column-vector y was passed when a 1d array was expected. Please change the shape of y to (n_samples,), for example using ravel().\n",
      "  estimator.fit(X_train, y_train, **fit_params)\n"
     ]
    },
    {
     "name": "stdout",
     "output_type": "stream",
     "text": [
      "[CV 5/5] END max_depth=6, n_estimators=200; neg_root_mean_squared_error: (test=-6.980) r2: (test=0.839) total time=   0.3s\n"
     ]
    },
    {
     "name": "stderr",
     "output_type": "stream",
     "text": [
      "C:\\Users\\dell\\anaconda3\\lib\\site-packages\\sklearn\\model_selection\\_validation.py:598: DataConversionWarning: A column-vector y was passed when a 1d array was expected. Please change the shape of y to (n_samples,), for example using ravel().\n",
      "  estimator.fit(X_train, y_train, **fit_params)\n"
     ]
    },
    {
     "name": "stdout",
     "output_type": "stream",
     "text": [
      "[CV 1/5] END max_depth=6, n_estimators=500; neg_root_mean_squared_error: (test=-5.324) r2: (test=0.893) total time=   0.9s\n"
     ]
    },
    {
     "name": "stderr",
     "output_type": "stream",
     "text": [
      "C:\\Users\\dell\\anaconda3\\lib\\site-packages\\sklearn\\model_selection\\_validation.py:598: DataConversionWarning: A column-vector y was passed when a 1d array was expected. Please change the shape of y to (n_samples,), for example using ravel().\n",
      "  estimator.fit(X_train, y_train, **fit_params)\n"
     ]
    },
    {
     "name": "stdout",
     "output_type": "stream",
     "text": [
      "[CV 2/5] END max_depth=6, n_estimators=500; neg_root_mean_squared_error: (test=-6.148) r2: (test=0.857) total time=   0.9s\n"
     ]
    },
    {
     "name": "stderr",
     "output_type": "stream",
     "text": [
      "C:\\Users\\dell\\anaconda3\\lib\\site-packages\\sklearn\\model_selection\\_validation.py:598: DataConversionWarning: A column-vector y was passed when a 1d array was expected. Please change the shape of y to (n_samples,), for example using ravel().\n",
      "  estimator.fit(X_train, y_train, **fit_params)\n"
     ]
    },
    {
     "name": "stdout",
     "output_type": "stream",
     "text": [
      "[CV 3/5] END max_depth=6, n_estimators=500; neg_root_mean_squared_error: (test=-5.506) r2: (test=0.897) total time=   0.9s\n"
     ]
    },
    {
     "name": "stderr",
     "output_type": "stream",
     "text": [
      "C:\\Users\\dell\\anaconda3\\lib\\site-packages\\sklearn\\model_selection\\_validation.py:598: DataConversionWarning: A column-vector y was passed when a 1d array was expected. Please change the shape of y to (n_samples,), for example using ravel().\n",
      "  estimator.fit(X_train, y_train, **fit_params)\n"
     ]
    },
    {
     "name": "stdout",
     "output_type": "stream",
     "text": [
      "[CV 4/5] END max_depth=6, n_estimators=500; neg_root_mean_squared_error: (test=-6.065) r2: (test=0.861) total time=   0.9s\n"
     ]
    },
    {
     "name": "stderr",
     "output_type": "stream",
     "text": [
      "C:\\Users\\dell\\anaconda3\\lib\\site-packages\\sklearn\\model_selection\\_validation.py:598: DataConversionWarning: A column-vector y was passed when a 1d array was expected. Please change the shape of y to (n_samples,), for example using ravel().\n",
      "  estimator.fit(X_train, y_train, **fit_params)\n"
     ]
    },
    {
     "name": "stdout",
     "output_type": "stream",
     "text": [
      "[CV 5/5] END max_depth=6, n_estimators=500; neg_root_mean_squared_error: (test=-6.986) r2: (test=0.839) total time=   0.9s\n"
     ]
    },
    {
     "name": "stderr",
     "output_type": "stream",
     "text": [
      "C:\\Users\\dell\\anaconda3\\lib\\site-packages\\sklearn\\model_selection\\_validation.py:598: DataConversionWarning: A column-vector y was passed when a 1d array was expected. Please change the shape of y to (n_samples,), for example using ravel().\n",
      "  estimator.fit(X_train, y_train, **fit_params)\n"
     ]
    },
    {
     "name": "stdout",
     "output_type": "stream",
     "text": [
      "[CV 1/5] END max_depth=9, n_estimators=100; neg_root_mean_squared_error: (test=-4.862) r2: (test=0.911) total time=   0.1s\n"
     ]
    },
    {
     "name": "stderr",
     "output_type": "stream",
     "text": [
      "C:\\Users\\dell\\anaconda3\\lib\\site-packages\\sklearn\\model_selection\\_validation.py:598: DataConversionWarning: A column-vector y was passed when a 1d array was expected. Please change the shape of y to (n_samples,), for example using ravel().\n",
      "  estimator.fit(X_train, y_train, **fit_params)\n"
     ]
    },
    {
     "name": "stdout",
     "output_type": "stream",
     "text": [
      "[CV 2/5] END max_depth=9, n_estimators=100; neg_root_mean_squared_error: (test=-5.615) r2: (test=0.881) total time=   0.2s\n"
     ]
    },
    {
     "name": "stderr",
     "output_type": "stream",
     "text": [
      "C:\\Users\\dell\\anaconda3\\lib\\site-packages\\sklearn\\model_selection\\_validation.py:598: DataConversionWarning: A column-vector y was passed when a 1d array was expected. Please change the shape of y to (n_samples,), for example using ravel().\n",
      "  estimator.fit(X_train, y_train, **fit_params)\n"
     ]
    },
    {
     "name": "stdout",
     "output_type": "stream",
     "text": [
      "[CV 3/5] END max_depth=9, n_estimators=100; neg_root_mean_squared_error: (test=-4.957) r2: (test=0.916) total time=   0.2s\n"
     ]
    },
    {
     "name": "stderr",
     "output_type": "stream",
     "text": [
      "C:\\Users\\dell\\anaconda3\\lib\\site-packages\\sklearn\\model_selection\\_validation.py:598: DataConversionWarning: A column-vector y was passed when a 1d array was expected. Please change the shape of y to (n_samples,), for example using ravel().\n",
      "  estimator.fit(X_train, y_train, **fit_params)\n"
     ]
    },
    {
     "name": "stdout",
     "output_type": "stream",
     "text": [
      "[CV 4/5] END max_depth=9, n_estimators=100; neg_root_mean_squared_error: (test=-5.396) r2: (test=0.890) total time=   0.2s\n"
     ]
    },
    {
     "name": "stderr",
     "output_type": "stream",
     "text": [
      "C:\\Users\\dell\\anaconda3\\lib\\site-packages\\sklearn\\model_selection\\_validation.py:598: DataConversionWarning: A column-vector y was passed when a 1d array was expected. Please change the shape of y to (n_samples,), for example using ravel().\n",
      "  estimator.fit(X_train, y_train, **fit_params)\n"
     ]
    },
    {
     "name": "stdout",
     "output_type": "stream",
     "text": [
      "[CV 5/5] END max_depth=9, n_estimators=100; neg_root_mean_squared_error: (test=-6.350) r2: (test=0.867) total time=   0.1s\n"
     ]
    },
    {
     "name": "stderr",
     "output_type": "stream",
     "text": [
      "C:\\Users\\dell\\anaconda3\\lib\\site-packages\\sklearn\\model_selection\\_validation.py:598: DataConversionWarning: A column-vector y was passed when a 1d array was expected. Please change the shape of y to (n_samples,), for example using ravel().\n",
      "  estimator.fit(X_train, y_train, **fit_params)\n"
     ]
    },
    {
     "name": "stdout",
     "output_type": "stream",
     "text": [
      "[CV 1/5] END max_depth=9, n_estimators=200; neg_root_mean_squared_error: (test=-4.793) r2: (test=0.913) total time=   0.4s\n"
     ]
    },
    {
     "name": "stderr",
     "output_type": "stream",
     "text": [
      "C:\\Users\\dell\\anaconda3\\lib\\site-packages\\sklearn\\model_selection\\_validation.py:598: DataConversionWarning: A column-vector y was passed when a 1d array was expected. Please change the shape of y to (n_samples,), for example using ravel().\n",
      "  estimator.fit(X_train, y_train, **fit_params)\n"
     ]
    },
    {
     "name": "stdout",
     "output_type": "stream",
     "text": [
      "[CV 2/5] END max_depth=9, n_estimators=200; neg_root_mean_squared_error: (test=-5.510) r2: (test=0.885) total time=   0.4s\n"
     ]
    },
    {
     "name": "stderr",
     "output_type": "stream",
     "text": [
      "C:\\Users\\dell\\anaconda3\\lib\\site-packages\\sklearn\\model_selection\\_validation.py:598: DataConversionWarning: A column-vector y was passed when a 1d array was expected. Please change the shape of y to (n_samples,), for example using ravel().\n",
      "  estimator.fit(X_train, y_train, **fit_params)\n"
     ]
    },
    {
     "name": "stdout",
     "output_type": "stream",
     "text": [
      "[CV 3/5] END max_depth=9, n_estimators=200; neg_root_mean_squared_error: (test=-4.881) r2: (test=0.919) total time=   0.4s\n"
     ]
    },
    {
     "name": "stderr",
     "output_type": "stream",
     "text": [
      "C:\\Users\\dell\\anaconda3\\lib\\site-packages\\sklearn\\model_selection\\_validation.py:598: DataConversionWarning: A column-vector y was passed when a 1d array was expected. Please change the shape of y to (n_samples,), for example using ravel().\n",
      "  estimator.fit(X_train, y_train, **fit_params)\n"
     ]
    },
    {
     "name": "stdout",
     "output_type": "stream",
     "text": [
      "[CV 4/5] END max_depth=9, n_estimators=200; neg_root_mean_squared_error: (test=-5.396) r2: (test=0.890) total time=   0.4s\n"
     ]
    },
    {
     "name": "stderr",
     "output_type": "stream",
     "text": [
      "C:\\Users\\dell\\anaconda3\\lib\\site-packages\\sklearn\\model_selection\\_validation.py:598: DataConversionWarning: A column-vector y was passed when a 1d array was expected. Please change the shape of y to (n_samples,), for example using ravel().\n",
      "  estimator.fit(X_train, y_train, **fit_params)\n"
     ]
    },
    {
     "name": "stdout",
     "output_type": "stream",
     "text": [
      "[CV 5/5] END max_depth=9, n_estimators=200; neg_root_mean_squared_error: (test=-6.331) r2: (test=0.868) total time=   0.4s\n"
     ]
    },
    {
     "name": "stderr",
     "output_type": "stream",
     "text": [
      "C:\\Users\\dell\\anaconda3\\lib\\site-packages\\sklearn\\model_selection\\_validation.py:598: DataConversionWarning: A column-vector y was passed when a 1d array was expected. Please change the shape of y to (n_samples,), for example using ravel().\n",
      "  estimator.fit(X_train, y_train, **fit_params)\n"
     ]
    },
    {
     "name": "stdout",
     "output_type": "stream",
     "text": [
      "[CV 1/5] END max_depth=9, n_estimators=500; neg_root_mean_squared_error: (test=-4.777) r2: (test=0.914) total time=   1.1s\n"
     ]
    },
    {
     "name": "stderr",
     "output_type": "stream",
     "text": [
      "C:\\Users\\dell\\anaconda3\\lib\\site-packages\\sklearn\\model_selection\\_validation.py:598: DataConversionWarning: A column-vector y was passed when a 1d array was expected. Please change the shape of y to (n_samples,), for example using ravel().\n",
      "  estimator.fit(X_train, y_train, **fit_params)\n"
     ]
    },
    {
     "name": "stdout",
     "output_type": "stream",
     "text": [
      "[CV 2/5] END max_depth=9, n_estimators=500; neg_root_mean_squared_error: (test=-5.457) r2: (test=0.888) total time=   1.1s\n"
     ]
    },
    {
     "name": "stderr",
     "output_type": "stream",
     "text": [
      "C:\\Users\\dell\\anaconda3\\lib\\site-packages\\sklearn\\model_selection\\_validation.py:598: DataConversionWarning: A column-vector y was passed when a 1d array was expected. Please change the shape of y to (n_samples,), for example using ravel().\n",
      "  estimator.fit(X_train, y_train, **fit_params)\n"
     ]
    },
    {
     "name": "stdout",
     "output_type": "stream",
     "text": [
      "[CV 3/5] END max_depth=9, n_estimators=500; neg_root_mean_squared_error: (test=-4.829) r2: (test=0.920) total time=   1.2s\n"
     ]
    },
    {
     "name": "stderr",
     "output_type": "stream",
     "text": [
      "C:\\Users\\dell\\anaconda3\\lib\\site-packages\\sklearn\\model_selection\\_validation.py:598: DataConversionWarning: A column-vector y was passed when a 1d array was expected. Please change the shape of y to (n_samples,), for example using ravel().\n",
      "  estimator.fit(X_train, y_train, **fit_params)\n"
     ]
    },
    {
     "name": "stdout",
     "output_type": "stream",
     "text": [
      "[CV 4/5] END max_depth=9, n_estimators=500; neg_root_mean_squared_error: (test=-5.430) r2: (test=0.889) total time=   1.6s\n"
     ]
    },
    {
     "name": "stderr",
     "output_type": "stream",
     "text": [
      "C:\\Users\\dell\\anaconda3\\lib\\site-packages\\sklearn\\model_selection\\_validation.py:598: DataConversionWarning: A column-vector y was passed when a 1d array was expected. Please change the shape of y to (n_samples,), for example using ravel().\n",
      "  estimator.fit(X_train, y_train, **fit_params)\n"
     ]
    },
    {
     "name": "stdout",
     "output_type": "stream",
     "text": [
      "[CV 5/5] END max_depth=9, n_estimators=500; neg_root_mean_squared_error: (test=-6.329) r2: (test=0.868) total time=   1.2s\n"
     ]
    },
    {
     "name": "stderr",
     "output_type": "stream",
     "text": [
      "C:\\Users\\dell\\anaconda3\\lib\\site-packages\\sklearn\\model_selection\\_search.py:880: DataConversionWarning: A column-vector y was passed when a 1d array was expected. Please change the shape of y to (n_samples,), for example using ravel().\n",
      "  self.best_estimator_.fit(X, y, **fit_params)\n"
     ]
    },
    {
     "data": {
      "text/plain": [
       "GridSearchCV(cv=5, estimator=RandomForestRegressor(random_state=2021),\n",
       "             param_grid={'max_depth': [3, 6, 9],\n",
       "                         'n_estimators': [100, 200, 500]},\n",
       "             refit='r2', scoring=['r2', 'neg_root_mean_squared_error'],\n",
       "             verbose=4)"
      ]
     },
     "execution_count": 112,
     "metadata": {},
     "output_type": "execute_result"
    }
   ],
   "source": [
    "GS.fit(X_train, Y_train)"
   ]
  },
  {
   "cell_type": "code",
   "execution_count": 113,
   "metadata": {},
   "outputs": [
    {
     "name": "stdout",
     "output_type": "stream",
     "text": [
      "RandomForestRegressor(max_depth=9, n_estimators=500, random_state=2021)\n"
     ]
    }
   ],
   "source": [
    "print(GS.best_estimator_) # to get the complete details of the best model"
   ]
  },
  {
   "cell_type": "code",
   "execution_count": 114,
   "metadata": {},
   "outputs": [
    {
     "name": "stdout",
     "output_type": "stream",
     "text": [
      "{'max_depth': 9, 'n_estimators': 500}\n"
     ]
    }
   ],
   "source": [
    "print(GS.best_params_) # to get only the best hyperparameter values that we searched for"
   ]
  },
  {
   "cell_type": "code",
   "execution_count": 115,
   "metadata": {},
   "outputs": [
    {
     "name": "stdout",
     "output_type": "stream",
     "text": [
      "0.8956469648088226\n"
     ]
    }
   ],
   "source": [
    "print(GS.best_score_) # score according to the metric we passed in refit"
   ]
  },
  {
   "cell_type": "code",
   "execution_count": 116,
   "metadata": {},
   "outputs": [],
   "source": [
    "df = pd.DataFrame(GS.cv_results_)\n",
    "df = df.sort_values(\"rank_test_r2\")\n",
    "df.to_csv(\"cv_results.csv\", index = False)"
   ]
  },
  {
   "cell_type": "code",
   "execution_count": 117,
   "metadata": {},
   "outputs": [
    {
     "data": {
      "text/html": [
       "<div>\n",
       "<style scoped>\n",
       "    .dataframe tbody tr th:only-of-type {\n",
       "        vertical-align: middle;\n",
       "    }\n",
       "\n",
       "    .dataframe tbody tr th {\n",
       "        vertical-align: top;\n",
       "    }\n",
       "\n",
       "    .dataframe thead th {\n",
       "        text-align: right;\n",
       "    }\n",
       "</style>\n",
       "<table border=\"1\" class=\"dataframe\">\n",
       "  <thead>\n",
       "    <tr style=\"text-align: right;\">\n",
       "      <th></th>\n",
       "      <th>mean_fit_time</th>\n",
       "      <th>std_fit_time</th>\n",
       "      <th>mean_score_time</th>\n",
       "      <th>std_score_time</th>\n",
       "      <th>param_max_depth</th>\n",
       "      <th>param_n_estimators</th>\n",
       "      <th>params</th>\n",
       "      <th>split0_test_r2</th>\n",
       "      <th>split1_test_r2</th>\n",
       "      <th>split2_test_r2</th>\n",
       "      <th>...</th>\n",
       "      <th>std_test_r2</th>\n",
       "      <th>rank_test_r2</th>\n",
       "      <th>split0_test_neg_root_mean_squared_error</th>\n",
       "      <th>split1_test_neg_root_mean_squared_error</th>\n",
       "      <th>split2_test_neg_root_mean_squared_error</th>\n",
       "      <th>split3_test_neg_root_mean_squared_error</th>\n",
       "      <th>split4_test_neg_root_mean_squared_error</th>\n",
       "      <th>mean_test_neg_root_mean_squared_error</th>\n",
       "      <th>std_test_neg_root_mean_squared_error</th>\n",
       "      <th>rank_test_neg_root_mean_squared_error</th>\n",
       "    </tr>\n",
       "  </thead>\n",
       "  <tbody>\n",
       "    <tr>\n",
       "      <th>8</th>\n",
       "      <td>1.306007</td>\n",
       "      <td>0.190650</td>\n",
       "      <td>0.043274</td>\n",
       "      <td>0.007125</td>\n",
       "      <td>9</td>\n",
       "      <td>500</td>\n",
       "      <td>{'max_depth': 9, 'n_estimators': 500}</td>\n",
       "      <td>0.913680</td>\n",
       "      <td>0.887535</td>\n",
       "      <td>0.920396</td>\n",
       "      <td>...</td>\n",
       "      <td>0.019069</td>\n",
       "      <td>1</td>\n",
       "      <td>-4.776885</td>\n",
       "      <td>-5.456786</td>\n",
       "      <td>-4.829445</td>\n",
       "      <td>-5.430321</td>\n",
       "      <td>-6.328746</td>\n",
       "      <td>-5.364437</td>\n",
       "      <td>0.561105</td>\n",
       "      <td>1</td>\n",
       "    </tr>\n",
       "    <tr>\n",
       "      <th>7</th>\n",
       "      <td>0.475438</td>\n",
       "      <td>0.009777</td>\n",
       "      <td>0.015620</td>\n",
       "      <td>0.000001</td>\n",
       "      <td>9</td>\n",
       "      <td>200</td>\n",
       "      <td>{'max_depth': 9, 'n_estimators': 200}</td>\n",
       "      <td>0.913085</td>\n",
       "      <td>0.885330</td>\n",
       "      <td>0.918699</td>\n",
       "      <td>...</td>\n",
       "      <td>0.018663</td>\n",
       "      <td>2</td>\n",
       "      <td>-4.793306</td>\n",
       "      <td>-5.510033</td>\n",
       "      <td>-4.880642</td>\n",
       "      <td>-5.396240</td>\n",
       "      <td>-6.330684</td>\n",
       "      <td>-5.382181</td>\n",
       "      <td>0.550367</td>\n",
       "      <td>2</td>\n",
       "    </tr>\n",
       "    <tr>\n",
       "      <th>6</th>\n",
       "      <td>0.250170</td>\n",
       "      <td>0.012399</td>\n",
       "      <td>0.007945</td>\n",
       "      <td>0.004941</td>\n",
       "      <td>9</td>\n",
       "      <td>100</td>\n",
       "      <td>{'max_depth': 9, 'n_estimators': 100}</td>\n",
       "      <td>0.910590</td>\n",
       "      <td>0.880899</td>\n",
       "      <td>0.916130</td>\n",
       "      <td>...</td>\n",
       "      <td>0.018285</td>\n",
       "      <td>3</td>\n",
       "      <td>-4.861621</td>\n",
       "      <td>-5.615474</td>\n",
       "      <td>-4.957171</td>\n",
       "      <td>-5.395650</td>\n",
       "      <td>-6.350452</td>\n",
       "      <td>-5.436074</td>\n",
       "      <td>0.534650</td>\n",
       "      <td>3</td>\n",
       "    </tr>\n",
       "    <tr>\n",
       "      <th>4</th>\n",
       "      <td>0.401916</td>\n",
       "      <td>0.019767</td>\n",
       "      <td>0.015285</td>\n",
       "      <td>0.000669</td>\n",
       "      <td>6</td>\n",
       "      <td>200</td>\n",
       "      <td>{'max_depth': 6, 'n_estimators': 200}</td>\n",
       "      <td>0.893651</td>\n",
       "      <td>0.856024</td>\n",
       "      <td>0.894608</td>\n",
       "      <td>...</td>\n",
       "      <td>0.021634</td>\n",
       "      <td>4</td>\n",
       "      <td>-5.302176</td>\n",
       "      <td>-6.174104</td>\n",
       "      <td>-5.556907</td>\n",
       "      <td>-6.015942</td>\n",
       "      <td>-6.980447</td>\n",
       "      <td>-6.005915</td>\n",
       "      <td>0.578784</td>\n",
       "      <td>5</td>\n",
       "    </tr>\n",
       "    <tr>\n",
       "      <th>5</th>\n",
       "      <td>0.942683</td>\n",
       "      <td>0.007567</td>\n",
       "      <td>0.037492</td>\n",
       "      <td>0.007652</td>\n",
       "      <td>6</td>\n",
       "      <td>500</td>\n",
       "      <td>{'max_depth': 6, 'n_estimators': 500}</td>\n",
       "      <td>0.892777</td>\n",
       "      <td>0.857256</td>\n",
       "      <td>0.896545</td>\n",
       "      <td>...</td>\n",
       "      <td>0.021979</td>\n",
       "      <td>5</td>\n",
       "      <td>-5.323940</td>\n",
       "      <td>-6.147629</td>\n",
       "      <td>-5.505601</td>\n",
       "      <td>-6.064611</td>\n",
       "      <td>-6.985893</td>\n",
       "      <td>-6.005535</td>\n",
       "      <td>0.582973</td>\n",
       "      <td>4</td>\n",
       "    </tr>\n",
       "    <tr>\n",
       "      <th>3</th>\n",
       "      <td>0.212500</td>\n",
       "      <td>0.015513</td>\n",
       "      <td>0.009594</td>\n",
       "      <td>0.003199</td>\n",
       "      <td>6</td>\n",
       "      <td>100</td>\n",
       "      <td>{'max_depth': 6, 'n_estimators': 100}</td>\n",
       "      <td>0.890168</td>\n",
       "      <td>0.852014</td>\n",
       "      <td>0.890314</td>\n",
       "      <td>...</td>\n",
       "      <td>0.020623</td>\n",
       "      <td>6</td>\n",
       "      <td>-5.388315</td>\n",
       "      <td>-6.259494</td>\n",
       "      <td>-5.668988</td>\n",
       "      <td>-6.012199</td>\n",
       "      <td>-6.998629</td>\n",
       "      <td>-6.065525</td>\n",
       "      <td>0.552631</td>\n",
       "      <td>6</td>\n",
       "    </tr>\n",
       "    <tr>\n",
       "      <th>0</th>\n",
       "      <td>0.170684</td>\n",
       "      <td>0.016435</td>\n",
       "      <td>0.006249</td>\n",
       "      <td>0.007653</td>\n",
       "      <td>3</td>\n",
       "      <td>100</td>\n",
       "      <td>{'max_depth': 3, 'n_estimators': 100}</td>\n",
       "      <td>0.737076</td>\n",
       "      <td>0.726428</td>\n",
       "      <td>0.744706</td>\n",
       "      <td>...</td>\n",
       "      <td>0.028522</td>\n",
       "      <td>7</td>\n",
       "      <td>-8.336872</td>\n",
       "      <td>-8.510691</td>\n",
       "      <td>-8.648681</td>\n",
       "      <td>-9.365262</td>\n",
       "      <td>-9.632947</td>\n",
       "      <td>-8.898891</td>\n",
       "      <td>0.507052</td>\n",
       "      <td>7</td>\n",
       "    </tr>\n",
       "    <tr>\n",
       "      <th>1</th>\n",
       "      <td>0.384752</td>\n",
       "      <td>0.042330</td>\n",
       "      <td>0.025677</td>\n",
       "      <td>0.008066</td>\n",
       "      <td>3</td>\n",
       "      <td>200</td>\n",
       "      <td>{'max_depth': 3, 'n_estimators': 200}</td>\n",
       "      <td>0.730970</td>\n",
       "      <td>0.725739</td>\n",
       "      <td>0.745773</td>\n",
       "      <td>...</td>\n",
       "      <td>0.027080</td>\n",
       "      <td>8</td>\n",
       "      <td>-8.433122</td>\n",
       "      <td>-8.521401</td>\n",
       "      <td>-8.630588</td>\n",
       "      <td>-9.340175</td>\n",
       "      <td>-9.612817</td>\n",
       "      <td>-8.907620</td>\n",
       "      <td>0.476543</td>\n",
       "      <td>8</td>\n",
       "    </tr>\n",
       "    <tr>\n",
       "      <th>2</th>\n",
       "      <td>0.776305</td>\n",
       "      <td>0.050155</td>\n",
       "      <td>0.038356</td>\n",
       "      <td>0.005680</td>\n",
       "      <td>3</td>\n",
       "      <td>500</td>\n",
       "      <td>{'max_depth': 3, 'n_estimators': 500}</td>\n",
       "      <td>0.730636</td>\n",
       "      <td>0.725099</td>\n",
       "      <td>0.744975</td>\n",
       "      <td>...</td>\n",
       "      <td>0.029423</td>\n",
       "      <td>9</td>\n",
       "      <td>-8.438360</td>\n",
       "      <td>-8.531342</td>\n",
       "      <td>-8.644129</td>\n",
       "      <td>-9.449900</td>\n",
       "      <td>-9.624777</td>\n",
       "      <td>-8.937702</td>\n",
       "      <td>0.497006</td>\n",
       "      <td>9</td>\n",
       "    </tr>\n",
       "  </tbody>\n",
       "</table>\n",
       "<p>9 rows × 23 columns</p>\n",
       "</div>"
      ],
      "text/plain": [
       "   mean_fit_time  std_fit_time  mean_score_time  std_score_time  \\\n",
       "8       1.306007      0.190650         0.043274        0.007125   \n",
       "7       0.475438      0.009777         0.015620        0.000001   \n",
       "6       0.250170      0.012399         0.007945        0.004941   \n",
       "4       0.401916      0.019767         0.015285        0.000669   \n",
       "5       0.942683      0.007567         0.037492        0.007652   \n",
       "3       0.212500      0.015513         0.009594        0.003199   \n",
       "0       0.170684      0.016435         0.006249        0.007653   \n",
       "1       0.384752      0.042330         0.025677        0.008066   \n",
       "2       0.776305      0.050155         0.038356        0.005680   \n",
       "\n",
       "  param_max_depth param_n_estimators                                 params  \\\n",
       "8               9                500  {'max_depth': 9, 'n_estimators': 500}   \n",
       "7               9                200  {'max_depth': 9, 'n_estimators': 200}   \n",
       "6               9                100  {'max_depth': 9, 'n_estimators': 100}   \n",
       "4               6                200  {'max_depth': 6, 'n_estimators': 200}   \n",
       "5               6                500  {'max_depth': 6, 'n_estimators': 500}   \n",
       "3               6                100  {'max_depth': 6, 'n_estimators': 100}   \n",
       "0               3                100  {'max_depth': 3, 'n_estimators': 100}   \n",
       "1               3                200  {'max_depth': 3, 'n_estimators': 200}   \n",
       "2               3                500  {'max_depth': 3, 'n_estimators': 500}   \n",
       "\n",
       "   split0_test_r2  split1_test_r2  split2_test_r2  ...  std_test_r2  \\\n",
       "8        0.913680        0.887535        0.920396  ...     0.019069   \n",
       "7        0.913085        0.885330        0.918699  ...     0.018663   \n",
       "6        0.910590        0.880899        0.916130  ...     0.018285   \n",
       "4        0.893651        0.856024        0.894608  ...     0.021634   \n",
       "5        0.892777        0.857256        0.896545  ...     0.021979   \n",
       "3        0.890168        0.852014        0.890314  ...     0.020623   \n",
       "0        0.737076        0.726428        0.744706  ...     0.028522   \n",
       "1        0.730970        0.725739        0.745773  ...     0.027080   \n",
       "2        0.730636        0.725099        0.744975  ...     0.029423   \n",
       "\n",
       "   rank_test_r2  split0_test_neg_root_mean_squared_error  \\\n",
       "8             1                                -4.776885   \n",
       "7             2                                -4.793306   \n",
       "6             3                                -4.861621   \n",
       "4             4                                -5.302176   \n",
       "5             5                                -5.323940   \n",
       "3             6                                -5.388315   \n",
       "0             7                                -8.336872   \n",
       "1             8                                -8.433122   \n",
       "2             9                                -8.438360   \n",
       "\n",
       "   split1_test_neg_root_mean_squared_error  \\\n",
       "8                                -5.456786   \n",
       "7                                -5.510033   \n",
       "6                                -5.615474   \n",
       "4                                -6.174104   \n",
       "5                                -6.147629   \n",
       "3                                -6.259494   \n",
       "0                                -8.510691   \n",
       "1                                -8.521401   \n",
       "2                                -8.531342   \n",
       "\n",
       "   split2_test_neg_root_mean_squared_error  \\\n",
       "8                                -4.829445   \n",
       "7                                -4.880642   \n",
       "6                                -4.957171   \n",
       "4                                -5.556907   \n",
       "5                                -5.505601   \n",
       "3                                -5.668988   \n",
       "0                                -8.648681   \n",
       "1                                -8.630588   \n",
       "2                                -8.644129   \n",
       "\n",
       "   split3_test_neg_root_mean_squared_error  \\\n",
       "8                                -5.430321   \n",
       "7                                -5.396240   \n",
       "6                                -5.395650   \n",
       "4                                -6.015942   \n",
       "5                                -6.064611   \n",
       "3                                -6.012199   \n",
       "0                                -9.365262   \n",
       "1                                -9.340175   \n",
       "2                                -9.449900   \n",
       "\n",
       "   split4_test_neg_root_mean_squared_error  \\\n",
       "8                                -6.328746   \n",
       "7                                -6.330684   \n",
       "6                                -6.350452   \n",
       "4                                -6.980447   \n",
       "5                                -6.985893   \n",
       "3                                -6.998629   \n",
       "0                                -9.632947   \n",
       "1                                -9.612817   \n",
       "2                                -9.624777   \n",
       "\n",
       "   mean_test_neg_root_mean_squared_error  \\\n",
       "8                              -5.364437   \n",
       "7                              -5.382181   \n",
       "6                              -5.436074   \n",
       "4                              -6.005915   \n",
       "5                              -6.005535   \n",
       "3                              -6.065525   \n",
       "0                              -8.898891   \n",
       "1                              -8.907620   \n",
       "2                              -8.937702   \n",
       "\n",
       "   std_test_neg_root_mean_squared_error  rank_test_neg_root_mean_squared_error  \n",
       "8                              0.561105                                      1  \n",
       "7                              0.550367                                      2  \n",
       "6                              0.534650                                      3  \n",
       "4                              0.578784                                      5  \n",
       "5                              0.582973                                      4  \n",
       "3                              0.552631                                      6  \n",
       "0                              0.507052                                      7  \n",
       "1                              0.476543                                      8  \n",
       "2                              0.497006                                      9  \n",
       "\n",
       "[9 rows x 23 columns]"
      ]
     },
     "execution_count": 117,
     "metadata": {},
     "output_type": "execute_result"
    }
   ],
   "source": [
    "df"
   ]
  },
  {
   "cell_type": "code",
   "execution_count": null,
   "metadata": {},
   "outputs": [],
   "source": []
  }
 ],
 "metadata": {
  "kernelspec": {
   "display_name": "Python 3 (ipykernel)",
   "language": "python",
   "name": "python3"
  },
  "language_info": {
   "codemirror_mode": {
    "name": "ipython",
    "version": 3
   },
   "file_extension": ".py",
   "mimetype": "text/x-python",
   "name": "python",
   "nbconvert_exporter": "python",
   "pygments_lexer": "ipython3",
   "version": "3.9.7"
  }
 },
 "nbformat": 4,
 "nbformat_minor": 4
}

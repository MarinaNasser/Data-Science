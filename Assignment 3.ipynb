{
 "cells": [
  {
   "cell_type": "markdown",
   "id": "FD08-LNtqrB3",
   "metadata": {
    "id": "FD08-LNtqrB3"
   },
   "source": [
    "# Assignment 3\n",
    "\n",
    "this assignment you will practice using Pandas and how to manipulate data to turn it into useful information."
   ]
  },
  {
   "cell_type": "markdown",
   "id": "6487c26d",
   "metadata": {
    "id": "6487c26d"
   },
   "source": [
    "### 1. Import libraries and data frames\n",
    "\n",
    "- here you need to import `pandas` and `numpy` libraries to use them.\n",
    "- then, import needed datasets, `Team1.csv`, `Team2.csv` and `Team_Attributes.csv` and assign them with understandable names."
   ]
  },
  {
   "cell_type": "code",
   "execution_count": 1,
   "id": "39536b52",
   "metadata": {
    "id": "39536b52"
   },
   "outputs": [],
   "source": [
    "import pandas as pd\n",
    "import numpy as np"
   ]
  },
  {
   "cell_type": "code",
   "execution_count": 2,
   "id": "48q8wnmu-N6t",
   "metadata": {
    "id": "48q8wnmu-N6t"
   },
   "outputs": [
    {
     "data": {
      "text/html": [
       "<div>\n",
       "<style scoped>\n",
       "    .dataframe tbody tr th:only-of-type {\n",
       "        vertical-align: middle;\n",
       "    }\n",
       "\n",
       "    .dataframe tbody tr th {\n",
       "        vertical-align: top;\n",
       "    }\n",
       "\n",
       "    .dataframe thead th {\n",
       "        text-align: right;\n",
       "    }\n",
       "</style>\n",
       "<table border=\"1\" class=\"dataframe\">\n",
       "  <thead>\n",
       "    <tr style=\"text-align: right;\">\n",
       "      <th></th>\n",
       "      <th>team_api_id</th>\n",
       "      <th>team_long_name</th>\n",
       "    </tr>\n",
       "  </thead>\n",
       "  <tbody>\n",
       "    <tr>\n",
       "      <th>0</th>\n",
       "      <td>9987</td>\n",
       "      <td>KRC Genk</td>\n",
       "    </tr>\n",
       "    <tr>\n",
       "      <th>1</th>\n",
       "      <td>9993</td>\n",
       "      <td>Beerschot AC</td>\n",
       "    </tr>\n",
       "    <tr>\n",
       "      <th>2</th>\n",
       "      <td>10000</td>\n",
       "      <td>SV Zulte-Waregem</td>\n",
       "    </tr>\n",
       "    <tr>\n",
       "      <th>3</th>\n",
       "      <td>9994</td>\n",
       "      <td>Sporting Lokeren</td>\n",
       "    </tr>\n",
       "    <tr>\n",
       "      <th>4</th>\n",
       "      <td>9984</td>\n",
       "      <td>KSV Cercle Brugge</td>\n",
       "    </tr>\n",
       "  </tbody>\n",
       "</table>\n",
       "</div>"
      ],
      "text/plain": [
       "   team_api_id     team_long_name\n",
       "0         9987           KRC Genk\n",
       "1         9993       Beerschot AC\n",
       "2        10000   SV Zulte-Waregem\n",
       "3         9994   Sporting Lokeren\n",
       "4         9984  KSV Cercle Brugge"
      ]
     },
     "execution_count": 2,
     "metadata": {},
     "output_type": "execute_result"
    }
   ],
   "source": [
    "Team1=pd.read_csv(r\"C:\\Users\\Marina\\Downloads\\Assignment\\Teams1.csv\")\n",
    "Team1.head()\n"
   ]
  },
  {
   "cell_type": "code",
   "execution_count": 3,
   "id": "b1f5c5cc",
   "metadata": {},
   "outputs": [
    {
     "data": {
      "text/html": [
       "<div>\n",
       "<style scoped>\n",
       "    .dataframe tbody tr th:only-of-type {\n",
       "        vertical-align: middle;\n",
       "    }\n",
       "\n",
       "    .dataframe tbody tr th {\n",
       "        vertical-align: top;\n",
       "    }\n",
       "\n",
       "    .dataframe thead th {\n",
       "        text-align: right;\n",
       "    }\n",
       "</style>\n",
       "<table border=\"1\" class=\"dataframe\">\n",
       "  <thead>\n",
       "    <tr style=\"text-align: right;\">\n",
       "      <th></th>\n",
       "      <th>team_api_id</th>\n",
       "      <th>team_long_name</th>\n",
       "    </tr>\n",
       "  </thead>\n",
       "  <tbody>\n",
       "    <tr>\n",
       "      <th>0</th>\n",
       "      <td>10219</td>\n",
       "      <td>RKC Waalwijk</td>\n",
       "    </tr>\n",
       "    <tr>\n",
       "      <th>1</th>\n",
       "      <td>9839</td>\n",
       "      <td>VVV-Venlo</td>\n",
       "    </tr>\n",
       "    <tr>\n",
       "      <th>2</th>\n",
       "      <td>10218</td>\n",
       "      <td>Excelsior</td>\n",
       "    </tr>\n",
       "    <tr>\n",
       "      <th>3</th>\n",
       "      <td>6413</td>\n",
       "      <td>PEC Zwolle</td>\n",
       "    </tr>\n",
       "    <tr>\n",
       "      <th>4</th>\n",
       "      <td>7788</td>\n",
       "      <td>SC Cambuur</td>\n",
       "    </tr>\n",
       "  </tbody>\n",
       "</table>\n",
       "</div>"
      ],
      "text/plain": [
       "   team_api_id team_long_name\n",
       "0        10219   RKC Waalwijk\n",
       "1         9839      VVV-Venlo\n",
       "2        10218      Excelsior\n",
       "3         6413     PEC Zwolle\n",
       "4         7788     SC Cambuur"
      ]
     },
     "execution_count": 3,
     "metadata": {},
     "output_type": "execute_result"
    }
   ],
   "source": [
    "Team2=pd.read_csv(r\"C:\\Users\\Marina\\Downloads\\Assignment\\Teams2.csv\")\n",
    "Team2.head()"
   ]
  },
  {
   "cell_type": "code",
   "execution_count": 4,
   "id": "23ec6fd9",
   "metadata": {},
   "outputs": [
    {
     "data": {
      "text/html": [
       "<div>\n",
       "<style scoped>\n",
       "    .dataframe tbody tr th:only-of-type {\n",
       "        vertical-align: middle;\n",
       "    }\n",
       "\n",
       "    .dataframe tbody tr th {\n",
       "        vertical-align: top;\n",
       "    }\n",
       "\n",
       "    .dataframe thead th {\n",
       "        text-align: right;\n",
       "    }\n",
       "</style>\n",
       "<table border=\"1\" class=\"dataframe\">\n",
       "  <thead>\n",
       "    <tr style=\"text-align: right;\">\n",
       "      <th></th>\n",
       "      <th>team_api_id</th>\n",
       "      <th>buildUpPlaySpeed</th>\n",
       "      <th>buildUpPlaySpeedClass</th>\n",
       "      <th>defencePressure</th>\n",
       "      <th>defencePressureClass</th>\n",
       "    </tr>\n",
       "  </thead>\n",
       "  <tbody>\n",
       "    <tr>\n",
       "      <th>0</th>\n",
       "      <td>9930</td>\n",
       "      <td>60.0</td>\n",
       "      <td>Balanced</td>\n",
       "      <td>50</td>\n",
       "      <td>Medium</td>\n",
       "    </tr>\n",
       "    <tr>\n",
       "      <th>1</th>\n",
       "      <td>9930</td>\n",
       "      <td>52.0</td>\n",
       "      <td>Balanced</td>\n",
       "      <td>47</td>\n",
       "      <td>Medium</td>\n",
       "    </tr>\n",
       "    <tr>\n",
       "      <th>2</th>\n",
       "      <td>9930</td>\n",
       "      <td>47.0</td>\n",
       "      <td>Balanced</td>\n",
       "      <td>47</td>\n",
       "      <td>Medium</td>\n",
       "    </tr>\n",
       "    <tr>\n",
       "      <th>3</th>\n",
       "      <td>8485</td>\n",
       "      <td>70.0</td>\n",
       "      <td>Fast</td>\n",
       "      <td>60</td>\n",
       "      <td>Medium</td>\n",
       "    </tr>\n",
       "    <tr>\n",
       "      <th>4</th>\n",
       "      <td>8485</td>\n",
       "      <td>47.0</td>\n",
       "      <td>Balanced</td>\n",
       "      <td>47</td>\n",
       "      <td>Medium</td>\n",
       "    </tr>\n",
       "  </tbody>\n",
       "</table>\n",
       "</div>"
      ],
      "text/plain": [
       "   team_api_id  buildUpPlaySpeed buildUpPlaySpeedClass defencePressure  \\\n",
       "0         9930              60.0              Balanced              50   \n",
       "1         9930              52.0              Balanced              47   \n",
       "2         9930              47.0              Balanced              47   \n",
       "3         8485              70.0                  Fast              60   \n",
       "4         8485              47.0              Balanced              47   \n",
       "\n",
       "  defencePressureClass  \n",
       "0               Medium  \n",
       "1               Medium  \n",
       "2               Medium  \n",
       "3               Medium  \n",
       "4               Medium  "
      ]
     },
     "execution_count": 4,
     "metadata": {},
     "output_type": "execute_result"
    }
   ],
   "source": [
    "Team_Attributes=pd.read_csv(r\"C:\\Users\\Marina\\Downloads\\Assignment\\Team_Attributes.csv\")\n",
    "Team_Attributes.head()"
   ]
  },
  {
   "cell_type": "markdown",
   "id": "6b0cc40b",
   "metadata": {
    "id": "6b0cc40b"
   },
   "source": [
    "### 2. Concatenate teams into one DataFrame\n",
    "- concate two dataframes `team1` and `team2` vertically.\n",
    "- merge `teams` and `teams attributes` and clean dataframe."
   ]
  },
  {
   "cell_type": "code",
   "execution_count": 5,
   "id": "Gv-YQRIe-Xid",
   "metadata": {
    "id": "Gv-YQRIe-Xid"
   },
   "outputs": [
    {
     "data": {
      "text/html": [
       "<div>\n",
       "<style scoped>\n",
       "    .dataframe tbody tr th:only-of-type {\n",
       "        vertical-align: middle;\n",
       "    }\n",
       "\n",
       "    .dataframe tbody tr th {\n",
       "        vertical-align: top;\n",
       "    }\n",
       "\n",
       "    .dataframe thead th {\n",
       "        text-align: right;\n",
       "    }\n",
       "</style>\n",
       "<table border=\"1\" class=\"dataframe\">\n",
       "  <thead>\n",
       "    <tr style=\"text-align: right;\">\n",
       "      <th></th>\n",
       "      <th>team_api_id</th>\n",
       "      <th>team_long_name</th>\n",
       "      <th>team</th>\n",
       "    </tr>\n",
       "  </thead>\n",
       "  <tbody>\n",
       "    <tr>\n",
       "      <th>0</th>\n",
       "      <td>10219</td>\n",
       "      <td>RKC Waalwijk</td>\n",
       "      <td>Team2</td>\n",
       "    </tr>\n",
       "    <tr>\n",
       "      <th>1</th>\n",
       "      <td>9839</td>\n",
       "      <td>VVV-Venlo</td>\n",
       "      <td>Team2</td>\n",
       "    </tr>\n",
       "    <tr>\n",
       "      <th>2</th>\n",
       "      <td>10218</td>\n",
       "      <td>Excelsior</td>\n",
       "      <td>Team2</td>\n",
       "    </tr>\n",
       "    <tr>\n",
       "      <th>3</th>\n",
       "      <td>6413</td>\n",
       "      <td>PEC Zwolle</td>\n",
       "      <td>Team2</td>\n",
       "    </tr>\n",
       "    <tr>\n",
       "      <th>4</th>\n",
       "      <td>7788</td>\n",
       "      <td>SC Cambuur</td>\n",
       "      <td>Team2</td>\n",
       "    </tr>\n",
       "  </tbody>\n",
       "</table>\n",
       "</div>"
      ],
      "text/plain": [
       "   team_api_id team_long_name   team\n",
       "0        10219   RKC Waalwijk  Team2\n",
       "1         9839      VVV-Venlo  Team2\n",
       "2        10218      Excelsior  Team2\n",
       "3         6413     PEC Zwolle  Team2\n",
       "4         7788     SC Cambuur  Team2"
      ]
     },
     "execution_count": 5,
     "metadata": {},
     "output_type": "execute_result"
    }
   ],
   "source": [
    "Team1['team']='Team1'\n",
    "Team2['team']='Team2'\n",
    "Team2.head()"
   ]
  },
  {
   "cell_type": "code",
   "execution_count": 6,
   "id": "6dcf9deb",
   "metadata": {},
   "outputs": [
    {
     "data": {
      "text/html": [
       "<div>\n",
       "<style scoped>\n",
       "    .dataframe tbody tr th:only-of-type {\n",
       "        vertical-align: middle;\n",
       "    }\n",
       "\n",
       "    .dataframe tbody tr th {\n",
       "        vertical-align: top;\n",
       "    }\n",
       "\n",
       "    .dataframe thead th {\n",
       "        text-align: right;\n",
       "    }\n",
       "</style>\n",
       "<table border=\"1\" class=\"dataframe\">\n",
       "  <thead>\n",
       "    <tr style=\"text-align: right;\">\n",
       "      <th></th>\n",
       "      <th>team_api_id</th>\n",
       "      <th>team_long_name</th>\n",
       "      <th>team</th>\n",
       "    </tr>\n",
       "  </thead>\n",
       "  <tbody>\n",
       "    <tr>\n",
       "      <th>0</th>\n",
       "      <td>9987</td>\n",
       "      <td>KRC Genk</td>\n",
       "      <td>Team1</td>\n",
       "    </tr>\n",
       "    <tr>\n",
       "      <th>1</th>\n",
       "      <td>9993</td>\n",
       "      <td>Beerschot AC</td>\n",
       "      <td>Team1</td>\n",
       "    </tr>\n",
       "    <tr>\n",
       "      <th>2</th>\n",
       "      <td>10000</td>\n",
       "      <td>SV Zulte-Waregem</td>\n",
       "      <td>Team1</td>\n",
       "    </tr>\n",
       "    <tr>\n",
       "      <th>3</th>\n",
       "      <td>9994</td>\n",
       "      <td>Sporting Lokeren</td>\n",
       "      <td>Team1</td>\n",
       "    </tr>\n",
       "    <tr>\n",
       "      <th>4</th>\n",
       "      <td>9984</td>\n",
       "      <td>KSV Cercle Brugge</td>\n",
       "      <td>Team1</td>\n",
       "    </tr>\n",
       "  </tbody>\n",
       "</table>\n",
       "</div>"
      ],
      "text/plain": [
       "   team_api_id     team_long_name   team\n",
       "0         9987           KRC Genk  Team1\n",
       "1         9993       Beerschot AC  Team1\n",
       "2        10000   SV Zulte-Waregem  Team1\n",
       "3         9994   Sporting Lokeren  Team1\n",
       "4         9984  KSV Cercle Brugge  Team1"
      ]
     },
     "execution_count": 6,
     "metadata": {},
     "output_type": "execute_result"
    }
   ],
   "source": [
    "Teams=pd.concat([Team1,Team2],axis=0)\n",
    "Teams.head()"
   ]
  },
  {
   "cell_type": "code",
   "execution_count": 7,
   "id": "7daf1cd4",
   "metadata": {},
   "outputs": [
    {
     "data": {
      "text/html": [
       "<div>\n",
       "<style scoped>\n",
       "    .dataframe tbody tr th:only-of-type {\n",
       "        vertical-align: middle;\n",
       "    }\n",
       "\n",
       "    .dataframe tbody tr th {\n",
       "        vertical-align: top;\n",
       "    }\n",
       "\n",
       "    .dataframe thead th {\n",
       "        text-align: right;\n",
       "    }\n",
       "</style>\n",
       "<table border=\"1\" class=\"dataframe\">\n",
       "  <thead>\n",
       "    <tr style=\"text-align: right;\">\n",
       "      <th></th>\n",
       "      <th>team_api_id</th>\n",
       "      <th>team_long_name</th>\n",
       "      <th>team</th>\n",
       "      <th>buildUpPlaySpeed</th>\n",
       "      <th>buildUpPlaySpeedClass</th>\n",
       "      <th>defencePressure</th>\n",
       "      <th>defencePressureClass</th>\n",
       "    </tr>\n",
       "  </thead>\n",
       "  <tbody>\n",
       "    <tr>\n",
       "      <th>0</th>\n",
       "      <td>9987</td>\n",
       "      <td>KRC Genk</td>\n",
       "      <td>Team1</td>\n",
       "      <td>45.0</td>\n",
       "      <td>Balanced</td>\n",
       "      <td>70</td>\n",
       "      <td>High</td>\n",
       "    </tr>\n",
       "    <tr>\n",
       "      <th>1</th>\n",
       "      <td>9987</td>\n",
       "      <td>KRC Genk</td>\n",
       "      <td>Team1</td>\n",
       "      <td>66.0</td>\n",
       "      <td>Balanced</td>\n",
       "      <td>48</td>\n",
       "      <td>Medium</td>\n",
       "    </tr>\n",
       "    <tr>\n",
       "      <th>2</th>\n",
       "      <td>9987</td>\n",
       "      <td>KRC Genk</td>\n",
       "      <td>Team1</td>\n",
       "      <td>53.0</td>\n",
       "      <td>Balanced</td>\n",
       "      <td>47</td>\n",
       "      <td>Medium</td>\n",
       "    </tr>\n",
       "    <tr>\n",
       "      <th>3</th>\n",
       "      <td>9987</td>\n",
       "      <td>KRC Genk</td>\n",
       "      <td>Team1</td>\n",
       "      <td>58.0</td>\n",
       "      <td>Balanced</td>\n",
       "      <td>47</td>\n",
       "      <td>Medium</td>\n",
       "    </tr>\n",
       "    <tr>\n",
       "      <th>4</th>\n",
       "      <td>9987</td>\n",
       "      <td>KRC Genk</td>\n",
       "      <td>Team1</td>\n",
       "      <td>58.0</td>\n",
       "      <td>Balanced</td>\n",
       "      <td>47</td>\n",
       "      <td>Medium</td>\n",
       "    </tr>\n",
       "  </tbody>\n",
       "</table>\n",
       "</div>"
      ],
      "text/plain": [
       "   team_api_id team_long_name   team  buildUpPlaySpeed buildUpPlaySpeedClass  \\\n",
       "0         9987       KRC Genk  Team1              45.0              Balanced   \n",
       "1         9987       KRC Genk  Team1              66.0              Balanced   \n",
       "2         9987       KRC Genk  Team1              53.0              Balanced   \n",
       "3         9987       KRC Genk  Team1              58.0              Balanced   \n",
       "4         9987       KRC Genk  Team1              58.0              Balanced   \n",
       "\n",
       "  defencePressure defencePressureClass  \n",
       "0              70                 High  \n",
       "1              48               Medium  \n",
       "2              47               Medium  \n",
       "3              47               Medium  \n",
       "4              47               Medium  "
      ]
     },
     "execution_count": 7,
     "metadata": {},
     "output_type": "execute_result"
    }
   ],
   "source": [
    "All_Teams=pd.merge(Teams,Team_Attributes)\n",
    "All_Teams.head()"
   ]
  },
  {
   "cell_type": "code",
   "execution_count": 8,
   "id": "5c39c91b",
   "metadata": {},
   "outputs": [],
   "source": [
    "### 3. Exploratory DataAnalysis & Define Problems ;)\n",
    "#- hint: start with `info()` and `isnull()` to find the problems need to be solved.\n",
    "#- you have 6 problems in this data, you need to find them out and solve them to make a clean dataset.\n",
    "#- in column `defencePressureClass` there are null values, the one who makes the most effiecent way to solve this problem will be rewarded in the next session;)\n",
    "#- don't use `dropna()` to solve null values problems. "
   ]
  },
  {
   "cell_type": "code",
   "execution_count": 9,
   "id": "bd90a61a",
   "metadata": {},
   "outputs": [
    {
     "name": "stdout",
     "output_type": "stream",
     "text": [
      "<class 'pandas.core.frame.DataFrame'>\n",
      "Int64Index: 1476 entries, 0 to 1475\n",
      "Data columns (total 7 columns):\n",
      " #   Column                 Non-Null Count  Dtype  \n",
      "---  ------                 --------------  -----  \n",
      " 0   team_api_id            1476 non-null   int64  \n",
      " 1   team_long_name         1476 non-null   object \n",
      " 2   team                   1476 non-null   object \n",
      " 3   buildUpPlaySpeed       1465 non-null   float64\n",
      " 4   buildUpPlaySpeedClass  1476 non-null   object \n",
      " 5   defencePressure        1476 non-null   object \n",
      " 6   defencePressureClass   1473 non-null   object \n",
      "dtypes: float64(1), int64(1), object(5)\n",
      "memory usage: 92.2+ KB\n"
     ]
    }
   ],
   "source": [
    "All_Teams.info()"
   ]
  },
  {
   "cell_type": "code",
   "execution_count": 10,
   "id": "daYf791CE4BD",
   "metadata": {
    "id": "daYf791CE4BD"
   },
   "outputs": [
    {
     "data": {
      "text/plain": [
       "array(['70', '48', '47', '36', '33', '45', '46', '44', '65', '60', '59',\n",
       "       '53', '61', '50', '55', '49', '52', '42', '57', '43', '51', '34',\n",
       "       '39', '32', '38', '30', '25', '27', '40', '54', '41', '56', '64',\n",
       "       '35', '62', '63', '58', '29', '24', '31', '37', '26', '.', '72',\n",
       "       '66', '68', '-', '28', '23', '67'], dtype=object)"
      ]
     },
     "execution_count": 10,
     "metadata": {},
     "output_type": "execute_result"
    }
   ],
   "source": [
    "All_Teams['defencePressure'].unique()"
   ]
  },
  {
   "cell_type": "code",
   "execution_count": 11,
   "id": "80067a6f",
   "metadata": {},
   "outputs": [],
   "source": [
    "All_Teams['defencePressure']=All_Teams['defencePressure'].replace('-',np.nan)\n",
    "All_Teams['defencePressure']=All_Teams['defencePressure'].replace('.',np.nan)\n",
    "All_Teams['defencePressure']=All_Teams['defencePressure'].astype(float)"
   ]
  },
  {
   "cell_type": "code",
   "execution_count": 12,
   "id": "9796d51c",
   "metadata": {},
   "outputs": [
    {
     "data": {
      "text/plain": [
       "0       False\n",
       "1       False\n",
       "2       False\n",
       "3       False\n",
       "4        True\n",
       "        ...  \n",
       "1471     True\n",
       "1472    False\n",
       "1473    False\n",
       "1474    False\n",
       "1475    False\n",
       "Length: 1476, dtype: bool"
      ]
     },
     "execution_count": 12,
     "metadata": {},
     "output_type": "execute_result"
    }
   ],
   "source": [
    "All_Teams.duplicated()"
   ]
  },
  {
   "cell_type": "code",
   "execution_count": 13,
   "id": "30c038fc",
   "metadata": {},
   "outputs": [],
   "source": [
    "All_Teams.drop_duplicates(inplace = True)"
   ]
  },
  {
   "cell_type": "code",
   "execution_count": 14,
   "id": "43fc68c7",
   "metadata": {},
   "outputs": [
    {
     "data": {
      "text/html": [
       "<div>\n",
       "<style scoped>\n",
       "    .dataframe tbody tr th:only-of-type {\n",
       "        vertical-align: middle;\n",
       "    }\n",
       "\n",
       "    .dataframe tbody tr th {\n",
       "        vertical-align: top;\n",
       "    }\n",
       "\n",
       "    .dataframe thead th {\n",
       "        text-align: right;\n",
       "    }\n",
       "</style>\n",
       "<table border=\"1\" class=\"dataframe\">\n",
       "  <thead>\n",
       "    <tr style=\"text-align: right;\">\n",
       "      <th></th>\n",
       "      <th>team_api_id</th>\n",
       "      <th>team_long_name</th>\n",
       "      <th>team</th>\n",
       "      <th>buildUpPlaySpeed</th>\n",
       "      <th>buildUpPlaySpeedClass</th>\n",
       "      <th>defencePressure</th>\n",
       "      <th>defencePressureClass</th>\n",
       "    </tr>\n",
       "  </thead>\n",
       "  <tbody>\n",
       "    <tr>\n",
       "      <th>0</th>\n",
       "      <td>9987</td>\n",
       "      <td>KRC Genk</td>\n",
       "      <td>Team1</td>\n",
       "      <td>45.0</td>\n",
       "      <td>Balanced</td>\n",
       "      <td>70.0</td>\n",
       "      <td>High</td>\n",
       "    </tr>\n",
       "    <tr>\n",
       "      <th>1</th>\n",
       "      <td>9987</td>\n",
       "      <td>KRC Genk</td>\n",
       "      <td>Team1</td>\n",
       "      <td>66.0</td>\n",
       "      <td>Balanced</td>\n",
       "      <td>48.0</td>\n",
       "      <td>Medium</td>\n",
       "    </tr>\n",
       "    <tr>\n",
       "      <th>2</th>\n",
       "      <td>9987</td>\n",
       "      <td>KRC Genk</td>\n",
       "      <td>Team1</td>\n",
       "      <td>53.0</td>\n",
       "      <td>Balanced</td>\n",
       "      <td>47.0</td>\n",
       "      <td>Medium</td>\n",
       "    </tr>\n",
       "    <tr>\n",
       "      <th>3</th>\n",
       "      <td>9987</td>\n",
       "      <td>KRC Genk</td>\n",
       "      <td>Team1</td>\n",
       "      <td>58.0</td>\n",
       "      <td>Balanced</td>\n",
       "      <td>47.0</td>\n",
       "      <td>Medium</td>\n",
       "    </tr>\n",
       "    <tr>\n",
       "      <th>5</th>\n",
       "      <td>9987</td>\n",
       "      <td>KRC Genk</td>\n",
       "      <td>Team1</td>\n",
       "      <td>58.0</td>\n",
       "      <td>Balanced</td>\n",
       "      <td>36.0</td>\n",
       "      <td>Medium</td>\n",
       "    </tr>\n",
       "  </tbody>\n",
       "</table>\n",
       "</div>"
      ],
      "text/plain": [
       "   team_api_id team_long_name   team  buildUpPlaySpeed buildUpPlaySpeedClass  \\\n",
       "0         9987       KRC Genk  Team1              45.0              Balanced   \n",
       "1         9987       KRC Genk  Team1              66.0              Balanced   \n",
       "2         9987       KRC Genk  Team1              53.0              Balanced   \n",
       "3         9987       KRC Genk  Team1              58.0              Balanced   \n",
       "5         9987       KRC Genk  Team1              58.0              Balanced   \n",
       "\n",
       "   defencePressure defencePressureClass  \n",
       "0             70.0                 High  \n",
       "1             48.0               Medium  \n",
       "2             47.0               Medium  \n",
       "3             47.0               Medium  \n",
       "5             36.0               Medium  "
      ]
     },
     "execution_count": 14,
     "metadata": {},
     "output_type": "execute_result"
    }
   ],
   "source": [
    "All_Teams.head()"
   ]
  },
  {
   "cell_type": "code",
   "execution_count": 15,
   "id": "4b630cd1",
   "metadata": {},
   "outputs": [],
   "source": [
    "y=All_Teams['defencePressure'].mean()\n",
    "All_Teams['defencePressure'].fillna(y,inplace=True)"
   ]
  },
  {
   "cell_type": "code",
   "execution_count": 16,
   "id": "2b6872e5",
   "metadata": {},
   "outputs": [
    {
     "name": "stdout",
     "output_type": "stream",
     "text": [
      "<class 'pandas.core.frame.DataFrame'>\n",
      "Int64Index: 1221 entries, 0 to 1475\n",
      "Data columns (total 7 columns):\n",
      " #   Column                 Non-Null Count  Dtype  \n",
      "---  ------                 --------------  -----  \n",
      " 0   team_api_id            1221 non-null   int64  \n",
      " 1   team_long_name         1221 non-null   object \n",
      " 2   team                   1221 non-null   object \n",
      " 3   buildUpPlaySpeed       1221 non-null   float64\n",
      " 4   buildUpPlaySpeedClass  1221 non-null   object \n",
      " 5   defencePressure        1221 non-null   float64\n",
      " 6   defencePressureClass   1221 non-null   object \n",
      "dtypes: float64(2), int64(1), object(4)\n",
      "memory usage: 76.3+ KB\n"
     ]
    }
   ],
   "source": [
    "All_Teams=All_Teams.dropna()\n",
    "All_Teams.info()"
   ]
  },
  {
   "cell_type": "code",
   "execution_count": 17,
   "id": "e2a46f30",
   "metadata": {},
   "outputs": [
    {
     "data": {
      "text/plain": [
       "array(['High', 'Medium', 'Deep', 'medium', 'high', 'deep'], dtype=object)"
      ]
     },
     "execution_count": 17,
     "metadata": {},
     "output_type": "execute_result"
    }
   ],
   "source": [
    "All_Teams['defencePressureClass'].unique()"
   ]
  },
  {
   "cell_type": "code",
   "execution_count": 18,
   "id": "12e6739f",
   "metadata": {
    "scrolled": true
   },
   "outputs": [
    {
     "data": {
      "text/plain": [
       "array(['high', 'medium', 'deep'], dtype=object)"
      ]
     },
     "execution_count": 18,
     "metadata": {},
     "output_type": "execute_result"
    }
   ],
   "source": [
    "All_Teams['defencePressureClass']=All_Teams['defencePressureClass'].str.lower()\n",
    "All_Teams['defencePressureClass'].unique()"
   ]
  },
  {
   "cell_type": "code",
   "execution_count": 19,
   "id": "ccb2655b",
   "metadata": {},
   "outputs": [
    {
     "data": {
      "text/html": [
       "<div>\n",
       "<style scoped>\n",
       "    .dataframe tbody tr th:only-of-type {\n",
       "        vertical-align: middle;\n",
       "    }\n",
       "\n",
       "    .dataframe tbody tr th {\n",
       "        vertical-align: top;\n",
       "    }\n",
       "\n",
       "    .dataframe thead th {\n",
       "        text-align: right;\n",
       "    }\n",
       "</style>\n",
       "<table border=\"1\" class=\"dataframe\">\n",
       "  <thead>\n",
       "    <tr style=\"text-align: right;\">\n",
       "      <th></th>\n",
       "      <th>team_api_id</th>\n",
       "      <th>team_long_name</th>\n",
       "      <th>team</th>\n",
       "      <th>buildUpPlaySpeed</th>\n",
       "      <th>buildUpPlaySpeedClass</th>\n",
       "      <th>defencePressure</th>\n",
       "      <th>defencePressureClass</th>\n",
       "    </tr>\n",
       "  </thead>\n",
       "  <tbody>\n",
       "    <tr>\n",
       "      <th>0</th>\n",
       "      <td>9987</td>\n",
       "      <td>KRC Genk</td>\n",
       "      <td>Team1</td>\n",
       "      <td>45.0</td>\n",
       "      <td>Balanced</td>\n",
       "      <td>70.0</td>\n",
       "      <td>NaN</td>\n",
       "    </tr>\n",
       "    <tr>\n",
       "      <th>1</th>\n",
       "      <td>9987</td>\n",
       "      <td>KRC Genk</td>\n",
       "      <td>Team1</td>\n",
       "      <td>66.0</td>\n",
       "      <td>Balanced</td>\n",
       "      <td>48.0</td>\n",
       "      <td>medium</td>\n",
       "    </tr>\n",
       "    <tr>\n",
       "      <th>2</th>\n",
       "      <td>9987</td>\n",
       "      <td>KRC Genk</td>\n",
       "      <td>Team1</td>\n",
       "      <td>53.0</td>\n",
       "      <td>Balanced</td>\n",
       "      <td>47.0</td>\n",
       "      <td>medium</td>\n",
       "    </tr>\n",
       "    <tr>\n",
       "      <th>3</th>\n",
       "      <td>9987</td>\n",
       "      <td>KRC Genk</td>\n",
       "      <td>Team1</td>\n",
       "      <td>58.0</td>\n",
       "      <td>Balanced</td>\n",
       "      <td>47.0</td>\n",
       "      <td>medium</td>\n",
       "    </tr>\n",
       "    <tr>\n",
       "      <th>5</th>\n",
       "      <td>9987</td>\n",
       "      <td>KRC Genk</td>\n",
       "      <td>Team1</td>\n",
       "      <td>58.0</td>\n",
       "      <td>Balanced</td>\n",
       "      <td>36.0</td>\n",
       "      <td>medium</td>\n",
       "    </tr>\n",
       "  </tbody>\n",
       "</table>\n",
       "</div>"
      ],
      "text/plain": [
       "   team_api_id team_long_name   team  buildUpPlaySpeed buildUpPlaySpeedClass  \\\n",
       "0         9987       KRC Genk  Team1              45.0              Balanced   \n",
       "1         9987       KRC Genk  Team1              66.0              Balanced   \n",
       "2         9987       KRC Genk  Team1              53.0              Balanced   \n",
       "3         9987       KRC Genk  Team1              58.0              Balanced   \n",
       "5         9987       KRC Genk  Team1              58.0              Balanced   \n",
       "\n",
       "   defencePressure defencePressureClass  \n",
       "0             70.0                  NaN  \n",
       "1             48.0               medium  \n",
       "2             47.0               medium  \n",
       "3             47.0               medium  \n",
       "5             36.0               medium  "
      ]
     },
     "execution_count": 19,
     "metadata": {},
     "output_type": "execute_result"
    }
   ],
   "source": [
    "bin_edges = [10,30,50,60]\n",
    "bin_names = ['deep', 'medium', 'high']\n",
    "All_Teams['defencePressureClass']=pd.cut(All_Teams['defencePressure'], bin_edges, labels=bin_names)\n",
    "All_Teams.head()"
   ]
  },
  {
   "cell_type": "code",
   "execution_count": 21,
   "id": "0b66e87e",
   "metadata": {},
   "outputs": [
    {
     "data": {
      "text/plain": [
       "array(['Balanced', 'Fast', 'Slow', 'BalanceD', 'fast', 'balanced', 'slow'],\n",
       "      dtype=object)"
      ]
     },
     "execution_count": 21,
     "metadata": {},
     "output_type": "execute_result"
    }
   ],
   "source": [
    "All_Teams['buildUpPlaySpeedClass'].unique()"
   ]
  },
  {
   "cell_type": "code",
   "execution_count": 22,
   "id": "cf241c0f",
   "metadata": {},
   "outputs": [
    {
     "data": {
      "text/plain": [
       "array(['balanced', 'fast', 'slow'], dtype=object)"
      ]
     },
     "execution_count": 22,
     "metadata": {},
     "output_type": "execute_result"
    }
   ],
   "source": [
    "All_Teams['buildUpPlaySpeedClass']=All_Teams['buildUpPlaySpeedClass'].str.lower()\n",
    "All_Teams['buildUpPlaySpeedClass'].unique()"
   ]
  },
  {
   "cell_type": "markdown",
   "id": "6de61a1c",
   "metadata": {
    "id": "6de61a1c"
   },
   "source": [
    "### 4. Questions to be answered:\n",
    "- what is the team with highest buildup speed?\n",
    "- change the range of defence pressure and make it from 0 to 10 (if the highest values in this column is 70, change it to 10 and so on).\n",
    "- what is the team with the longest name?\n",
    "- **Bonus**:change the `buildUpSpeed` column by subtracting every values from the mean, and change std to be equal 1."
   ]
  },
  {
   "cell_type": "code",
   "execution_count": 20,
   "id": "YVQrdHHB-gKN",
   "metadata": {
    "id": "YVQrdHHB-gKN"
   },
   "outputs": [
    {
     "data": {
      "text/html": [
       "<div>\n",
       "<style scoped>\n",
       "    .dataframe tbody tr th:only-of-type {\n",
       "        vertical-align: middle;\n",
       "    }\n",
       "\n",
       "    .dataframe tbody tr th {\n",
       "        vertical-align: top;\n",
       "    }\n",
       "\n",
       "    .dataframe thead th {\n",
       "        text-align: right;\n",
       "    }\n",
       "</style>\n",
       "<table border=\"1\" class=\"dataframe\">\n",
       "  <thead>\n",
       "    <tr style=\"text-align: right;\">\n",
       "      <th></th>\n",
       "      <th>team_api_id</th>\n",
       "      <th>team_long_name</th>\n",
       "      <th>team</th>\n",
       "      <th>buildUpPlaySpeed</th>\n",
       "      <th>buildUpPlaySpeedClass</th>\n",
       "      <th>defencePressure</th>\n",
       "      <th>defencePressureClass</th>\n",
       "    </tr>\n",
       "  </thead>\n",
       "  <tbody>\n",
       "    <tr>\n",
       "      <th>0</th>\n",
       "      <td>9987</td>\n",
       "      <td>KRC Genk</td>\n",
       "      <td>Team1</td>\n",
       "      <td>45.0</td>\n",
       "      <td>Balanced</td>\n",
       "      <td>70.0</td>\n",
       "      <td>NaN</td>\n",
       "    </tr>\n",
       "    <tr>\n",
       "      <th>1</th>\n",
       "      <td>9987</td>\n",
       "      <td>KRC Genk</td>\n",
       "      <td>Team1</td>\n",
       "      <td>66.0</td>\n",
       "      <td>Balanced</td>\n",
       "      <td>48.0</td>\n",
       "      <td>medium</td>\n",
       "    </tr>\n",
       "    <tr>\n",
       "      <th>2</th>\n",
       "      <td>9987</td>\n",
       "      <td>KRC Genk</td>\n",
       "      <td>Team1</td>\n",
       "      <td>53.0</td>\n",
       "      <td>Balanced</td>\n",
       "      <td>47.0</td>\n",
       "      <td>medium</td>\n",
       "    </tr>\n",
       "    <tr>\n",
       "      <th>3</th>\n",
       "      <td>9987</td>\n",
       "      <td>KRC Genk</td>\n",
       "      <td>Team1</td>\n",
       "      <td>58.0</td>\n",
       "      <td>Balanced</td>\n",
       "      <td>47.0</td>\n",
       "      <td>medium</td>\n",
       "    </tr>\n",
       "    <tr>\n",
       "      <th>5</th>\n",
       "      <td>9987</td>\n",
       "      <td>KRC Genk</td>\n",
       "      <td>Team1</td>\n",
       "      <td>58.0</td>\n",
       "      <td>Balanced</td>\n",
       "      <td>36.0</td>\n",
       "      <td>medium</td>\n",
       "    </tr>\n",
       "  </tbody>\n",
       "</table>\n",
       "</div>"
      ],
      "text/plain": [
       "   team_api_id team_long_name   team  buildUpPlaySpeed buildUpPlaySpeedClass  \\\n",
       "0         9987       KRC Genk  Team1              45.0              Balanced   \n",
       "1         9987       KRC Genk  Team1              66.0              Balanced   \n",
       "2         9987       KRC Genk  Team1              53.0              Balanced   \n",
       "3         9987       KRC Genk  Team1              58.0              Balanced   \n",
       "5         9987       KRC Genk  Team1              58.0              Balanced   \n",
       "\n",
       "   defencePressure defencePressureClass  \n",
       "0             70.0                  NaN  \n",
       "1             48.0               medium  \n",
       "2             47.0               medium  \n",
       "3             47.0               medium  \n",
       "5             36.0               medium  "
      ]
     },
     "execution_count": 20,
     "metadata": {},
     "output_type": "execute_result"
    }
   ],
   "source": [
    "All_Teams.groupby('buildUpPlaySpeed').mean()\n",
    "All_Teams.head()"
   ]
  }
 ],
 "metadata": {
  "colab": {
   "collapsed_sections": [
    "6487c26d",
    "6b0cc40b",
    "cb94ab1f",
    "6de61a1c"
   ],
   "name": "Assignment.ipynb",
   "provenance": []
  },
  "kernelspec": {
   "display_name": "Python 3",
   "language": "python",
   "name": "python3"
  },
  "language_info": {
   "codemirror_mode": {
    "name": "ipython",
    "version": 3
   },
   "file_extension": ".py",
   "mimetype": "text/x-python",
   "name": "python",
   "nbconvert_exporter": "python",
   "pygments_lexer": "ipython3",
   "version": "3.8.8"
  }
 },
 "nbformat": 4,
 "nbformat_minor": 5
}
